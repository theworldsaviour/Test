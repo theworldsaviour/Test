{
 "cells": [
  {
   "cell_type": "code",
   "execution_count": 1,
   "id": "d994a458",
   "metadata": {},
   "outputs": [],
   "source": [
    "a = \"ineuron\""
   ]
  },
  {
   "cell_type": "code",
   "execution_count": 3,
   "id": "44434ea2",
   "metadata": {},
   "outputs": [
    {
     "data": {
      "text/plain": [
       "'o'"
      ]
     },
     "execution_count": 3,
     "metadata": {},
     "output_type": "execute_result"
    }
   ],
   "source": [
    "a[5]"
   ]
  },
  {
   "cell_type": "code",
   "execution_count": 7,
   "id": "3a454400",
   "metadata": {},
   "outputs": [
    {
     "data": {
      "text/plain": [
       "'n'"
      ]
     },
     "execution_count": 7,
     "metadata": {},
     "output_type": "execute_result"
    }
   ],
   "source": [
    "a[1]"
   ]
  },
  {
   "cell_type": "code",
   "execution_count": 10,
   "id": "5a2c8d84",
   "metadata": {},
   "outputs": [
    {
     "data": {
      "text/plain": [
       "'r'"
      ]
     },
     "execution_count": 10,
     "metadata": {},
     "output_type": "execute_result"
    }
   ],
   "source": [
    "a[-3]"
   ]
  },
  {
   "cell_type": "code",
   "execution_count": 11,
   "id": "33a0c8ff",
   "metadata": {},
   "outputs": [],
   "source": [
    "b = 'INEURON'"
   ]
  },
  {
   "cell_type": "code",
   "execution_count": 12,
   "id": "0436751b",
   "metadata": {},
   "outputs": [
    {
     "data": {
      "text/plain": [
       "'N'"
      ]
     },
     "execution_count": 12,
     "metadata": {},
     "output_type": "execute_result"
    }
   ],
   "source": [
    "b[1]"
   ]
  },
  {
   "cell_type": "code",
   "execution_count": 13,
   "id": "5d07f6db",
   "metadata": {},
   "outputs": [
    {
     "data": {
      "text/plain": [
       "'R'"
      ]
     },
     "execution_count": 13,
     "metadata": {},
     "output_type": "execute_result"
    }
   ],
   "source": [
    "b[-3]"
   ]
  },
  {
   "cell_type": "code",
   "execution_count": 14,
   "id": "cadec27d",
   "metadata": {},
   "outputs": [],
   "source": [
    "c='I AM CHAMP''R'"
   ]
  },
  {
   "cell_type": "code",
   "execution_count": 15,
   "id": "a54ef43f",
   "metadata": {},
   "outputs": [
    {
     "data": {
      "text/plain": [
       "'I AM CHAMPR'"
      ]
     },
     "execution_count": 15,
     "metadata": {},
     "output_type": "execute_result"
    }
   ],
   "source": [
    "c"
   ]
  },
  {
   "cell_type": "code",
   "execution_count": 22,
   "id": "72cb3af2",
   "metadata": {},
   "outputs": [
    {
     "data": {
      "text/plain": [
       "'R'"
      ]
     },
     "execution_count": 22,
     "metadata": {},
     "output_type": "execute_result"
    }
   ],
   "source": [
    "c[10]"
   ]
  },
  {
   "cell_type": "code",
   "execution_count": 23,
   "id": "8b069739",
   "metadata": {},
   "outputs": [
    {
     "data": {
      "text/plain": [
       "'I'"
      ]
     },
     "execution_count": 23,
     "metadata": {},
     "output_type": "execute_result"
    }
   ],
   "source": [
    "c[-11]"
   ]
  },
  {
   "cell_type": "code",
   "execution_count": 25,
   "id": "019f11c9",
   "metadata": {},
   "outputs": [
    {
     "data": {
      "text/plain": [
       "' AM CHAMP'"
      ]
     },
     "execution_count": 25,
     "metadata": {},
     "output_type": "execute_result"
    }
   ],
   "source": [
    "c[1:10]"
   ]
  },
  {
   "cell_type": "code",
   "execution_count": 26,
   "id": "1315488d",
   "metadata": {},
   "outputs": [
    {
     "data": {
      "text/plain": [
       "' MCAP'"
      ]
     },
     "execution_count": 26,
     "metadata": {},
     "output_type": "execute_result"
    }
   ],
   "source": [
    "c[1:10:2]"
   ]
  },
  {
   "cell_type": "code",
   "execution_count": 29,
   "id": "774f8414",
   "metadata": {},
   "outputs": [],
   "source": [
    "d=\"I am the\"\"WORLD\"\"SAVIOUR\""
   ]
  },
  {
   "cell_type": "code",
   "execution_count": 30,
   "id": "81c3883d",
   "metadata": {},
   "outputs": [
    {
     "data": {
      "text/plain": [
       "'I am theWORLDSAVIOUR'"
      ]
     },
     "execution_count": 30,
     "metadata": {},
     "output_type": "execute_result"
    }
   ],
   "source": [
    "d"
   ]
  },
  {
   "cell_type": "code",
   "execution_count": 33,
   "id": "b305e6c5",
   "metadata": {},
   "outputs": [
    {
     "data": {
      "text/plain": [
       "'I am theWORLDSAVIOUR'"
      ]
     },
     "execution_count": 33,
     "metadata": {},
     "output_type": "execute_result"
    }
   ],
   "source": [
    "d[0:20:1]"
   ]
  },
  {
   "cell_type": "code",
   "execution_count": 34,
   "id": "8bf5e2f7",
   "metadata": {},
   "outputs": [
    {
     "data": {
      "text/plain": [
       "''"
      ]
     },
     "execution_count": 34,
     "metadata": {},
     "output_type": "execute_result"
    }
   ],
   "source": [
    "d[0:10:-3]"
   ]
  },
  {
   "cell_type": "code",
   "execution_count": 36,
   "id": "8f549c31",
   "metadata": {},
   "outputs": [
    {
     "data": {
      "text/plain": [
       "'OVSLOe'"
      ]
     },
     "execution_count": 36,
     "metadata": {},
     "output_type": "execute_result"
    }
   ],
   "source": [
    "d[-3:-15:-2]"
   ]
  },
  {
   "cell_type": "code",
   "execution_count": 53,
   "id": "b978b173",
   "metadata": {},
   "outputs": [
    {
     "data": {
      "text/plain": [
       "'RLDSAVIO'"
      ]
     },
     "execution_count": 53,
     "metadata": {},
     "output_type": "execute_result"
    }
   ],
   "source": [
    "d[10:-2]"
   ]
  },
  {
   "cell_type": "code",
   "execution_count": 48,
   "id": "6bbca7ce",
   "metadata": {},
   "outputs": [
    {
     "data": {
      "text/plain": [
       "'I am theWORLDSAVI'"
      ]
     },
     "execution_count": 48,
     "metadata": {},
     "output_type": "execute_result"
    }
   ],
   "source": [
    "d[:-3]"
   ]
  },
  {
   "cell_type": "code",
   "execution_count": 54,
   "id": "c55ca2a5",
   "metadata": {},
   "outputs": [
    {
     "data": {
      "text/plain": [
       "'OUR'"
      ]
     },
     "execution_count": 54,
     "metadata": {},
     "output_type": "execute_result"
    }
   ],
   "source": [
    "d[-3:\n",
    "]"
   ]
  },
  {
   "cell_type": "code",
   "execution_count": 58,
   "id": "aa000f2e",
   "metadata": {},
   "outputs": [
    {
     "data": {
      "text/plain": [
       "'ROVSLOetm '"
      ]
     },
     "execution_count": 58,
     "metadata": {},
     "output_type": "execute_result"
    }
   ],
   "source": [
    "d[::-2]"
   ]
  },
  {
   "cell_type": "code",
   "execution_count": 84,
   "id": "9c6a5b23",
   "metadata": {},
   "outputs": [
    {
     "data": {
      "text/plain": [
       "'ROVSLO'"
      ]
     },
     "execution_count": 84,
     "metadata": {},
     "output_type": "execute_result"
    }
   ],
   "source": [
    "d[:-12:-2]"
   ]
  },
  {
   "cell_type": "code",
   "execution_count": null,
   "id": "33f4c95f",
   "metadata": {},
   "outputs": [],
   "source": []
  }
 ],
 "metadata": {
  "kernelspec": {
   "display_name": "Python 3 (ipykernel)",
   "language": "python",
   "name": "python3"
  },
  "language_info": {
   "codemirror_mode": {
    "name": "ipython",
    "version": 3
   },
   "file_extension": ".py",
   "mimetype": "text/x-python",
   "name": "python",
   "nbconvert_exporter": "python",
   "pygments_lexer": "ipython3",
   "version": "3.9.12"
  }
 },
 "nbformat": 4,
 "nbformat_minor": 5
}
