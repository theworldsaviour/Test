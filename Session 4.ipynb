{
 "cells": [
  {
   "cell_type": "code",
   "execution_count": 3,
   "id": "892bf9c9",
   "metadata": {},
   "outputs": [
    {
     "name": "stdout",
     "output_type": "stream",
     "text": [
      "CHAMP\n"
     ]
    }
   ],
   "source": [
    "a = 10\n",
    "if a ==10 :\n",
    "    print('CHAMP')"
   ]
  },
  {
   "cell_type": "code",
   "execution_count": 5,
   "id": "cd786395",
   "metadata": {},
   "outputs": [],
   "source": [
    "if a==11:\n",
    "    print('WRONG')"
   ]
  },
  {
   "cell_type": "code",
   "execution_count": 6,
   "id": "66a03dae",
   "metadata": {},
   "outputs": [],
   "source": [
    "a=10\n",
    "if a >5:\n",
    "    pass"
   ]
  },
  {
   "cell_type": "code",
   "execution_count": 8,
   "id": "e9ba3d54",
   "metadata": {},
   "outputs": [
    {
     "name": "stdout",
     "output_type": "stream",
     "text": [
      "false condition\n"
     ]
    }
   ],
   "source": [
    "a=15\n",
    "if a<=10:\n",
    "    print(\"True condition\")\n",
    "else:\n",
    "    print(\"false condition\")"
   ]
  },
  {
   "cell_type": "code",
   "execution_count": 9,
   "id": "f8416771",
   "metadata": {},
   "outputs": [
    {
     "name": "stdout",
     "output_type": "stream",
     "text": [
      "this should print\n"
     ]
    }
   ],
   "source": [
    "a = 10\n",
    "if a ==12:\n",
    "    print('checking else if condition')\n",
    "elif a==11:\n",
    "    print('again checking the condition')\n",
    "elif a == 10:\n",
    "    print(\"this should print\")\n",
    "else:\n",
    "    print(\"think this is enough\")"
   ]
  },
  {
   "cell_type": "code",
   "execution_count": 12,
   "id": "1c956f84",
   "metadata": {},
   "outputs": [],
   "source": [
    "if a>15:\n",
    "    print(\"we are done\")\n",
    "else: (\"this is wrong\")"
   ]
  },
  {
   "cell_type": "code",
   "execution_count": 14,
   "id": "4421ed87",
   "metadata": {},
   "outputs": [
    {
     "name": "stdout",
     "output_type": "stream",
     "text": [
      "this product is mine\n"
     ]
    }
   ],
   "source": [
    "price = 500\n",
    "if price >500:\n",
    "    print('beyond the budget')\n",
    "elif price <=500:\n",
    "    print(\"this product is mine\")\n",
    "else:\n",
    "    print('Go home')"
   ]
  },
  {
   "cell_type": "code",
   "execution_count": 15,
   "id": "13497671",
   "metadata": {},
   "outputs": [
    {
     "data": {
      "text/plain": [
       "False"
      ]
     },
     "execution_count": 15,
     "metadata": {},
     "output_type": "execute_result"
    }
   ],
   "source": [
    "price>500\n"
   ]
  },
  {
   "cell_type": "code",
   "execution_count": 16,
   "id": "9c2f5fb5",
   "metadata": {},
   "outputs": [
    {
     "data": {
      "text/plain": [
       "False"
      ]
     },
     "execution_count": 16,
     "metadata": {},
     "output_type": "execute_result"
    }
   ],
   "source": [
    "price<500"
   ]
  },
  {
   "cell_type": "code",
   "execution_count": 17,
   "id": "44301c12",
   "metadata": {},
   "outputs": [
    {
     "data": {
      "text/plain": [
       "True"
      ]
     },
     "execution_count": 17,
     "metadata": {},
     "output_type": "execute_result"
    }
   ],
   "source": [
    "price<=500"
   ]
  },
  {
   "cell_type": "code",
   "execution_count": 18,
   "id": "2ac2d151",
   "metadata": {},
   "outputs": [
    {
     "data": {
      "text/plain": [
       "True"
      ]
     },
     "execution_count": 18,
     "metadata": {},
     "output_type": "execute_result"
    }
   ],
   "source": [
    "price>=500"
   ]
  },
  {
   "cell_type": "code",
   "execution_count": 19,
   "id": "1de7fa94",
   "metadata": {},
   "outputs": [
    {
     "data": {
      "text/plain": [
       "True"
      ]
     },
     "execution_count": 19,
     "metadata": {},
     "output_type": "execute_result"
    }
   ],
   "source": [
    "price ==500"
   ]
  },
  {
   "cell_type": "code",
   "execution_count": 24,
   "id": "3b1b0b32",
   "metadata": {},
   "outputs": [
    {
     "data": {
      "text/plain": [
       "True"
      ]
     },
     "execution_count": 24,
     "metadata": {},
     "output_type": "execute_result"
    }
   ],
   "source": [
    "l=[1,2,3,4,5,6,7,\"10\"]\n",
    "2 in l"
   ]
  },
  {
   "cell_type": "code",
   "execution_count": 25,
   "id": "9d0aad67",
   "metadata": {},
   "outputs": [
    {
     "name": "stdout",
     "output_type": "stream",
     "text": [
      "this is superb number\n"
     ]
    }
   ],
   "source": [
    "if \"10\" in l:\n",
    "    print('this is superb number')\n",
    "else:\n",
    "    print(\"not happening\")"
   ]
  },
  {
   "cell_type": "code",
   "execution_count": 28,
   "id": "0a01244d",
   "metadata": {},
   "outputs": [
    {
     "name": "stdout",
     "output_type": "stream",
     "text": [
      "Register this\n",
      "New condition\n"
     ]
    }
   ],
   "source": [
    "if 10 in l:\n",
    "    print('this is superb number')\n",
    "elif 8 in l:\n",
    "    print(\"not happening\")\n",
    "elif 4 in l:\n",
    "    print('Register this')\n",
    "else:\n",
    "    print('go home')\n",
    "if 5 in l:\n",
    "    print(\"New condition\")"
   ]
  },
  {
   "cell_type": "code",
   "execution_count": 31,
   "id": "0961b1c9",
   "metadata": {},
   "outputs": [
    {
     "name": "stdout",
     "output_type": "stream",
     "text": [
      "400\n"
     ]
    }
   ],
   "source": [
    "b= input()"
   ]
  },
  {
   "cell_type": "code",
   "execution_count": 32,
   "id": "13db2430",
   "metadata": {},
   "outputs": [
    {
     "data": {
      "text/plain": [
       "'400'"
      ]
     },
     "execution_count": 32,
     "metadata": {},
     "output_type": "execute_result"
    }
   ],
   "source": [
    "b"
   ]
  },
  {
   "cell_type": "code",
   "execution_count": 47,
   "id": "04a4bc21",
   "metadata": {},
   "outputs": [
    {
     "name": "stdout",
     "output_type": "stream",
     "text": [
      "650\n",
      "This is too much\n"
     ]
    }
   ],
   "source": [
    "c=int(input())\n",
    "if c<500:\n",
    "    print(\"too cheap\")\n",
    "    if c<400:\n",
    "        print(\"still cheap\")\n",
    "    elif c<300:\n",
    "        print(\"have some standard\")\n",
    "    elif c<400:\n",
    "        print(\"I can afford more\")\n",
    "    else:\n",
    "        print(\"Let us buy\")\n",
    "else:\n",
    "    print(\"This is too much\")"
   ]
  },
  {
   "cell_type": "code",
   "execution_count": 51,
   "id": "f0694e57",
   "metadata": {},
   "outputs": [
    {
     "name": "stdout",
     "output_type": "stream",
     "text": [
      "654\n",
      "This is too much\n"
     ]
    }
   ],
   "source": [
    "c=int(input())\n",
    "if c<500:\n",
    "    print(\"too cheap\")\n",
    "    if c<400:\n",
    "        print(\"still cheap\")\n",
    "    elif c<300:\n",
    "        print(\"have some standard\")\n",
    "    elif c<400:\n",
    "        print(\"I can afford more\")\n",
    "    else:\n",
    "        print(\"Let us buy\")\n",
    "else:\n",
    "    print(\"This is too much\")"
   ]
  },
  {
   "cell_type": "code",
   "execution_count": 59,
   "id": "9a1cd323",
   "metadata": {},
   "outputs": [
    {
     "name": "stdout",
     "output_type": "stream",
     "text": [
      "501\n",
      "No GRE\n",
      "next time GRE\n"
     ]
    }
   ],
   "source": [
    "marks=int(input())\n",
    "if marks <600:\n",
    "    print(\"No GRE\")\n",
    "    if marks <500:\n",
    "        print(\"TOFEL\")\n",
    "    elif marks <400:\n",
    "        print(\"try something else\")\n",
    "    else:\n",
    "        print(\"next time GRE\")\n",
    "else:\n",
    "    print('GRE')"
   ]
  },
  {
   "cell_type": "code",
   "execution_count": 62,
   "id": "fa8c5eae",
   "metadata": {},
   "outputs": [
    {
     "name": "stdout",
     "output_type": "stream",
     "text": [
      "enter a floating point number-35\n",
      "entered value is negative\n"
     ]
    }
   ],
   "source": [
    "val = float(input(\"enter a floating point number\"))\n",
    "if val>=0:\n",
    "    print(\"Looping in...Wait\")\n",
    "    if val ==0:\n",
    "        print('entered value is 0')\n",
    "    else:\n",
    "        print('entered value is a positive no')\n",
    "else:\n",
    "    print('entered value is negative')"
   ]
  },
  {
   "cell_type": "code",
   "execution_count": 63,
   "id": "a82abfd3",
   "metadata": {},
   "outputs": [
    {
     "name": "stdout",
     "output_type": "stream",
     "text": [
      "I think it will execute\n"
     ]
    }
   ],
   "source": [
    "a=10\n",
    "if a<10 or a==10:\n",
    "    print('I think it will execute')"
   ]
  },
  {
   "cell_type": "code",
   "execution_count": 68,
   "id": "c77edef1",
   "metadata": {},
   "outputs": [
    {
     "name": "stdout",
     "output_type": "stream",
     "text": [
      "Go sleep\n"
     ]
    }
   ],
   "source": [
    "a=10\n",
    "if a<10 and a==10:\n",
    "    print('not happening')\n",
    "else:\n",
    "    print('Go sleep')"
   ]
  },
  {
   "cell_type": "code",
   "execution_count": 72,
   "id": "d54b2e6d",
   "metadata": {},
   "outputs": [
    {
     "name": "stdout",
     "output_type": "stream",
     "text": [
      "I think it will work\n"
     ]
    }
   ],
   "source": [
    "a=10\n",
    "b=11\n",
    "c=12\n",
    "d=15\n",
    "if a==9 or b==12 or c==12 and d==15:\n",
    "    print(\"I think it will work\")"
   ]
  },
  {
   "cell_type": "code",
   "execution_count": 77,
   "id": "852c1b5b",
   "metadata": {},
   "outputs": [
    {
     "name": "stdout",
     "output_type": "stream",
     "text": [
      "VALUES are executable\n",
      "dict_values(['Value', 'VALUE', 'work'])\n"
     ]
    }
   ],
   "source": [
    "d={\"key1\":'Value', 'key2':'VALUE', 'key3' : 'work'}\n",
    "if d['key1'] =='Value'or d['key2'] ==\"VALue\" and d['key3'] =='work':\n",
    "    print(\"VALUES are executable\")\n",
    "    print(d.values())\n",
    "else:\n",
    "    print('so ja be')"
   ]
  },
  {
   "cell_type": "code",
   "execution_count": 79,
   "id": "eda5127c",
   "metadata": {},
   "outputs": [
    {
     "name": "stdout",
     "output_type": "stream",
     "text": [
      "3\n",
      "47\n",
      "778\n",
      "47\n",
      "17\n",
      "47\n",
      "37\n",
      "58\n",
      "89\n",
      "667\n",
      "323\n",
      "1000\n"
     ]
    }
   ],
   "source": [
    "l=[1,45,776,45,15,45,35,56,87,665,321,998]\n",
    "for i in l:\n",
    "    print(i+2)"
   ]
  },
  {
   "cell_type": "code",
   "execution_count": 84,
   "id": "94eb5db7",
   "metadata": {},
   "outputs": [
    {
     "name": "stdout",
     "output_type": "stream",
     "text": [
      "2\n",
      "3\n",
      "4\n",
      "7\n",
      "9\n",
      "RAJ1\n",
      "46.65\n",
      "68\n"
     ]
    }
   ],
   "source": [
    "l1 = [1,2,3,6,8,'RAJ', 45.65,67]\n",
    "for i in l1:\n",
    "    if type(i) ==int or type(i) ==float:\n",
    "        print(i+1)\n",
    "    elif type(i) == str:\n",
    "        print(i+str(1))"
   ]
  },
  {
   "cell_type": "code",
   "execution_count": 85,
   "id": "e7c73ddf",
   "metadata": {},
   "outputs": [
    {
     "name": "stdout",
     "output_type": "stream",
     "text": [
      "1\n",
      "2\n",
      "3\n",
      "6\n",
      "8\n",
      "67\n"
     ]
    }
   ],
   "source": [
    "l2 = []\n",
    "for i in l1 :\n",
    "    if type(i) == int:\n",
    "        l2.append(i)\n",
    "for i in l2:\n",
    "    print(i)"
   ]
  },
  {
   "cell_type": "code",
   "execution_count": 86,
   "id": "82394b9c",
   "metadata": {},
   "outputs": [
    {
     "data": {
      "text/plain": [
       "[1, 2, 3, 6, 8, 67]"
      ]
     },
     "execution_count": 86,
     "metadata": {},
     "output_type": "execute_result"
    }
   ],
   "source": [
    "l2"
   ]
  },
  {
   "cell_type": "code",
   "execution_count": null,
   "id": "a347004e",
   "metadata": {},
   "outputs": [],
   "source": []
  }
 ],
 "metadata": {
  "kernelspec": {
   "display_name": "Python 3 (ipykernel)",
   "language": "python",
   "name": "python3"
  },
  "language_info": {
   "codemirror_mode": {
    "name": "ipython",
    "version": 3
   },
   "file_extension": ".py",
   "mimetype": "text/x-python",
   "name": "python",
   "nbconvert_exporter": "python",
   "pygments_lexer": "ipython3",
   "version": "3.9.12"
  }
 },
 "nbformat": 4,
 "nbformat_minor": 5
}
