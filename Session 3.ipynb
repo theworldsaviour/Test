{
 "cells": [
  {
   "cell_type": "code",
   "execution_count": 1,
   "id": "4024d27b",
   "metadata": {},
   "outputs": [],
   "source": [
    "l=[0,1,2,3,4,5,446.345,'CHAMP',\"  \",True]"
   ]
  },
  {
   "cell_type": "code",
   "execution_count": 2,
   "id": "eabf74a7",
   "metadata": {},
   "outputs": [
    {
     "data": {
      "text/plain": [
       "'  '"
      ]
     },
     "execution_count": 2,
     "metadata": {},
     "output_type": "execute_result"
    }
   ],
   "source": [
    "l[8]"
   ]
  },
  {
   "cell_type": "code",
   "execution_count": 3,
   "id": "4bd0aad0",
   "metadata": {},
   "outputs": [
    {
     "data": {
      "text/plain": [
       "5"
      ]
     },
     "execution_count": 3,
     "metadata": {},
     "output_type": "execute_result"
    }
   ],
   "source": [
    "l[-5]"
   ]
  },
  {
   "cell_type": "code",
   "execution_count": 4,
   "id": "6239ea5d",
   "metadata": {},
   "outputs": [
    {
     "data": {
      "text/plain": [
       "10"
      ]
     },
     "execution_count": 4,
     "metadata": {},
     "output_type": "execute_result"
    }
   ],
   "source": [
    "len(l)"
   ]
  },
  {
   "cell_type": "code",
   "execution_count": 5,
   "id": "ff8f39f6",
   "metadata": {},
   "outputs": [
    {
     "data": {
      "text/plain": [
       "[0, 2, 4]"
      ]
     },
     "execution_count": 5,
     "metadata": {},
     "output_type": "execute_result"
    }
   ],
   "source": [
    "l[0:5:2]"
   ]
  },
  {
   "cell_type": "code",
   "execution_count": 6,
   "id": "20101662",
   "metadata": {},
   "outputs": [
    {
     "data": {
      "text/plain": [
       "[True, '  ', 'CHAMP', 446.345, 5, 4, 3, 2, 1, 0]"
      ]
     },
     "execution_count": 6,
     "metadata": {},
     "output_type": "execute_result"
    }
   ],
   "source": [
    "l[::-1]"
   ]
  },
  {
   "cell_type": "code",
   "execution_count": 7,
   "id": "a3545616",
   "metadata": {},
   "outputs": [
    {
     "data": {
      "text/plain": [
       "[0, 1, 2, 3, 4, 5, 446.345, 'CHAMP', '  ', True, 'I AM']"
      ]
     },
     "execution_count": 7,
     "metadata": {},
     "output_type": "execute_result"
    }
   ],
   "source": [
    "l+[\"I AM\"]"
   ]
  },
  {
   "cell_type": "code",
   "execution_count": 8,
   "id": "9120162b",
   "metadata": {},
   "outputs": [],
   "source": [
    "l.append(\"theworldsaviour\")"
   ]
  },
  {
   "cell_type": "code",
   "execution_count": 9,
   "id": "543dbaea",
   "metadata": {},
   "outputs": [
    {
     "data": {
      "text/plain": [
       "True"
      ]
     },
     "execution_count": 9,
     "metadata": {},
     "output_type": "execute_result"
    }
   ],
   "source": [
    "'CHAMP' in l"
   ]
  },
  {
   "cell_type": "code",
   "execution_count": 10,
   "id": "0cbc2ef6",
   "metadata": {},
   "outputs": [
    {
     "name": "stdout",
     "output_type": "stream",
     "text": [
      "1\n",
      "98203\n"
     ]
    }
   ],
   "source": [
    "L1 = [1,5,9,11,782,29832,2398,98203,9923]\n",
    "print(min(L1))\n",
    "print(max(L1))"
   ]
  },
  {
   "cell_type": "code",
   "execution_count": 11,
   "id": "5c76ecf9",
   "metadata": {},
   "outputs": [
    {
     "name": "stdout",
     "output_type": "stream",
     "text": [
      "Rahul\n",
      "theWorldsaviour\n"
     ]
    }
   ],
   "source": [
    "l2=[\"Rahul\", 'the cHAMP',\"theWorldsaviour\",\"the CHAMP\"]\n",
    "print(min(l2))\n",
    "print(max(l2))"
   ]
  },
  {
   "cell_type": "code",
   "execution_count": 12,
   "id": "8c001db9",
   "metadata": {},
   "outputs": [],
   "source": [
    "l.append([10,\"07\",\"supreme\"])"
   ]
  },
  {
   "cell_type": "code",
   "execution_count": 13,
   "id": "60f51377",
   "metadata": {},
   "outputs": [
    {
     "data": {
      "text/plain": [
       "[0,\n",
       " 1,\n",
       " 2,\n",
       " 3,\n",
       " 4,\n",
       " 5,\n",
       " 446.345,\n",
       " 'CHAMP',\n",
       " '  ',\n",
       " True,\n",
       " 'theworldsaviour',\n",
       " [10, '07', 'supreme']]"
      ]
     },
     "execution_count": 13,
     "metadata": {},
     "output_type": "execute_result"
    }
   ],
   "source": [
    "l"
   ]
  },
  {
   "cell_type": "code",
   "execution_count": 14,
   "id": "30f852bb",
   "metadata": {},
   "outputs": [
    {
     "data": {
      "text/plain": [
       "'theworldsaviour'"
      ]
     },
     "execution_count": 14,
     "metadata": {},
     "output_type": "execute_result"
    }
   ],
   "source": [
    "l.pop(10)"
   ]
  },
  {
   "cell_type": "code",
   "execution_count": 15,
   "id": "475bee45",
   "metadata": {},
   "outputs": [],
   "source": [
    "l.append([10,'07','supreme'])"
   ]
  },
  {
   "cell_type": "code",
   "execution_count": 16,
   "id": "c9097133",
   "metadata": {},
   "outputs": [
    {
     "data": {
      "text/plain": [
       "[0,\n",
       " 1,\n",
       " 2,\n",
       " 3,\n",
       " 4,\n",
       " 5,\n",
       " 446.345,\n",
       " 'CHAMP',\n",
       " '  ',\n",
       " True,\n",
       " [10, '07', 'supreme'],\n",
       " [10, '07', 'supreme']]"
      ]
     },
     "execution_count": 16,
     "metadata": {},
     "output_type": "execute_result"
    }
   ],
   "source": [
    "l"
   ]
  },
  {
   "cell_type": "code",
   "execution_count": 17,
   "id": "6efdbf3e",
   "metadata": {},
   "outputs": [],
   "source": [
    "l.reverse()"
   ]
  },
  {
   "cell_type": "code",
   "execution_count": 18,
   "id": "f93bcd5c",
   "metadata": {},
   "outputs": [
    {
     "data": {
      "text/plain": [
       "[0,\n",
       " 1,\n",
       " 2,\n",
       " 3,\n",
       " 4,\n",
       " 5,\n",
       " 446.345,\n",
       " 'CHAMP',\n",
       " '  ',\n",
       " True,\n",
       " [10, '07', 'supreme'],\n",
       " [10, '07', 'supreme']]"
      ]
     },
     "execution_count": 18,
     "metadata": {},
     "output_type": "execute_result"
    }
   ],
   "source": [
    "l[::-1]"
   ]
  },
  {
   "cell_type": "code",
   "execution_count": 19,
   "id": "b6dcdd2f",
   "metadata": {},
   "outputs": [
    {
     "data": {
      "text/plain": [
       "[1, 5, 9, 11, 782, 2398, 9923, 29832, 98203]"
      ]
     },
     "execution_count": 19,
     "metadata": {},
     "output_type": "execute_result"
    }
   ],
   "source": [
    "L1.sort()\n",
    "L1"
   ]
  },
  {
   "cell_type": "code",
   "execution_count": 20,
   "id": "a005e1fd",
   "metadata": {},
   "outputs": [
    {
     "data": {
      "text/plain": [
       "['Rahul', 'the CHAMP', 'the cHAMP', 'theWorldsaviour']"
      ]
     },
     "execution_count": 20,
     "metadata": {},
     "output_type": "execute_result"
    }
   ],
   "source": [
    "l2.sort()\n",
    "l2"
   ]
  },
  {
   "cell_type": "code",
   "execution_count": 21,
   "id": "565c46f8",
   "metadata": {},
   "outputs": [
    {
     "data": {
      "text/plain": [
       "[98203, 29832, 9923, 2398, 782, 11, 9, 5, 1]"
      ]
     },
     "execution_count": 21,
     "metadata": {},
     "output_type": "execute_result"
    }
   ],
   "source": [
    "L1.sort(reverse = True)\n",
    "L1"
   ]
  },
  {
   "cell_type": "code",
   "execution_count": 22,
   "id": "c654fb71",
   "metadata": {},
   "outputs": [
    {
     "data": {
      "text/plain": [
       "[[2, 3, 4], [4, 9, 23], [39, 23, 31, 34]]"
      ]
     },
     "execution_count": 22,
     "metadata": {},
     "output_type": "execute_result"
    }
   ],
   "source": [
    "a=[2,3,4]\n",
    "b=[4,9,23]\n",
    "c=[39,23,31,34]\n",
    "d=[a,b,c]\n",
    "d"
   ]
  },
  {
   "cell_type": "code",
   "execution_count": 23,
   "id": "edc14c40",
   "metadata": {},
   "outputs": [
    {
     "data": {
      "text/plain": [
       "31"
      ]
     },
     "execution_count": 23,
     "metadata": {},
     "output_type": "execute_result"
    }
   ],
   "source": [
    "d[2][2]"
   ]
  },
  {
   "cell_type": "code",
   "execution_count": 24,
   "id": "18973cce",
   "metadata": {},
   "outputs": [],
   "source": [
    "d.append(45)"
   ]
  },
  {
   "cell_type": "code",
   "execution_count": 25,
   "id": "fbd6d3c2",
   "metadata": {},
   "outputs": [],
   "source": [
    "d.append([45,45,45,45])"
   ]
  },
  {
   "cell_type": "code",
   "execution_count": 26,
   "id": "ca3d324d",
   "metadata": {},
   "outputs": [
    {
     "data": {
      "text/plain": [
       "[[2, 3, 4], [4, 9, 23], [39, 23, 31, 34], 45, [45, 45, 45, 45]]"
      ]
     },
     "execution_count": 26,
     "metadata": {},
     "output_type": "execute_result"
    }
   ],
   "source": [
    "d"
   ]
  },
  {
   "cell_type": "code",
   "execution_count": 27,
   "id": "5d98fe55",
   "metadata": {},
   "outputs": [
    {
     "data": {
      "text/plain": [
       "1"
      ]
     },
     "execution_count": 27,
     "metadata": {},
     "output_type": "execute_result"
    }
   ],
   "source": [
    "d.count([45,45,45,45])"
   ]
  },
  {
   "cell_type": "code",
   "execution_count": 28,
   "id": "b5649989",
   "metadata": {},
   "outputs": [
    {
     "data": {
      "text/plain": [
       "0"
      ]
     },
     "execution_count": 28,
     "metadata": {},
     "output_type": "execute_result"
    }
   ],
   "source": [
    "d.count(2)"
   ]
  },
  {
   "cell_type": "code",
   "execution_count": 29,
   "id": "9aa2dcab",
   "metadata": {},
   "outputs": [],
   "source": [
    "l2.extend(\"theworldsaviour\")"
   ]
  },
  {
   "cell_type": "code",
   "execution_count": 30,
   "id": "2879d905",
   "metadata": {},
   "outputs": [],
   "source": [
    "l2.extend([35,45,56,71])"
   ]
  },
  {
   "cell_type": "code",
   "execution_count": 31,
   "id": "acc3ec85",
   "metadata": {},
   "outputs": [
    {
     "data": {
      "text/plain": [
       "20"
      ]
     },
     "execution_count": 31,
     "metadata": {},
     "output_type": "execute_result"
    }
   ],
   "source": [
    "l2.index(45)"
   ]
  },
  {
   "cell_type": "code",
   "execution_count": 32,
   "id": "b4c03fc2",
   "metadata": {},
   "outputs": [
    {
     "data": {
      "text/plain": [
       "['Rahul',\n",
       " 'the CHAMP',\n",
       " 'the cHAMP',\n",
       " 'theWorldsaviour',\n",
       " 't',\n",
       " 'h',\n",
       " 'e',\n",
       " 'w',\n",
       " 'o',\n",
       " 'r',\n",
       " 'l',\n",
       " 'd',\n",
       " 's',\n",
       " 'a',\n",
       " 'v',\n",
       " 'i',\n",
       " 'o',\n",
       " 'u',\n",
       " 'r',\n",
       " 35,\n",
       " 45,\n",
       " 56,\n",
       " 71]"
      ]
     },
     "execution_count": 32,
     "metadata": {},
     "output_type": "execute_result"
    }
   ],
   "source": [
    "l2"
   ]
  },
  {
   "cell_type": "code",
   "execution_count": 33,
   "id": "a8ac8311",
   "metadata": {},
   "outputs": [],
   "source": [
    "l3 = [45,66,84,865,165,68,468,18,68,45,6,8]"
   ]
  },
  {
   "cell_type": "code",
   "execution_count": 34,
   "id": "8adea344",
   "metadata": {},
   "outputs": [],
   "source": [
    "l3.insert(10,\"CHAMP\")"
   ]
  },
  {
   "cell_type": "code",
   "execution_count": 35,
   "id": "6137f48d",
   "metadata": {},
   "outputs": [
    {
     "data": {
      "text/plain": [
       "[45, 66, 84, 865, 165, 68, 468, 18, 68, 45, 'CHAMP', 6, 8]"
      ]
     },
     "execution_count": 35,
     "metadata": {},
     "output_type": "execute_result"
    }
   ],
   "source": [
    "l3"
   ]
  },
  {
   "cell_type": "code",
   "execution_count": 36,
   "id": "0ac6bcde",
   "metadata": {},
   "outputs": [
    {
     "data": {
      "text/plain": [
       "'CHAMP'"
      ]
     },
     "execution_count": 36,
     "metadata": {},
     "output_type": "execute_result"
    }
   ],
   "source": [
    "l3.pop(-3)"
   ]
  },
  {
   "cell_type": "code",
   "execution_count": 37,
   "id": "85eb1055",
   "metadata": {},
   "outputs": [],
   "source": [
    "l3.remove(45)"
   ]
  },
  {
   "cell_type": "code",
   "execution_count": 38,
   "id": "ecb3eb10",
   "metadata": {},
   "outputs": [
    {
     "data": {
      "text/plain": [
       "[66, 84, 865, 165, 68, 468, 18, 68, 45, 6, 8]"
      ]
     },
     "execution_count": 38,
     "metadata": {},
     "output_type": "execute_result"
    }
   ],
   "source": [
    "l3"
   ]
  },
  {
   "cell_type": "code",
   "execution_count": 39,
   "id": "769dfaa2",
   "metadata": {},
   "outputs": [
    {
     "ename": "ValueError",
     "evalue": "list.remove(x): x not in list",
     "output_type": "error",
     "traceback": [
      "\u001b[1;31m---------------------------------------------------------------------------\u001b[0m",
      "\u001b[1;31mValueError\u001b[0m                                Traceback (most recent call last)",
      "Input \u001b[1;32mIn [39]\u001b[0m, in \u001b[0;36m<cell line: 1>\u001b[1;34m()\u001b[0m\n\u001b[1;32m----> 1\u001b[0m \u001b[43ml3\u001b[49m\u001b[38;5;241;43m.\u001b[39;49m\u001b[43mremove\u001b[49m\u001b[43m(\u001b[49m\u001b[38;5;124;43m\"\u001b[39;49m\u001b[38;5;124;43mCHAMP\u001b[39;49m\u001b[38;5;124;43m\"\u001b[39;49m\u001b[43m)\u001b[49m\n",
      "\u001b[1;31mValueError\u001b[0m: list.remove(x): x not in list"
     ]
    }
   ],
   "source": [
    "l3.remove(\"CHAMP\")"
   ]
  },
  {
   "cell_type": "code",
   "execution_count": 40,
   "id": "2e513ec8",
   "metadata": {},
   "outputs": [
    {
     "data": {
      "text/plain": [
       "[66, 84, 865, 165, 68, 468, 18, 68, 45, 6, 8]"
      ]
     },
     "execution_count": 40,
     "metadata": {},
     "output_type": "execute_result"
    }
   ],
   "source": [
    "l3"
   ]
  },
  {
   "cell_type": "code",
   "execution_count": 41,
   "id": "0304f4db",
   "metadata": {},
   "outputs": [],
   "source": [
    "l3[7] = \"RAHUL\""
   ]
  },
  {
   "cell_type": "code",
   "execution_count": 42,
   "id": "3426cad6",
   "metadata": {},
   "outputs": [
    {
     "data": {
      "text/plain": [
       "[66, 84, 865, 165, 68, 468, 18, 'RAHUL', 45, 6, 8]"
      ]
     },
     "execution_count": 42,
     "metadata": {},
     "output_type": "execute_result"
    }
   ],
   "source": [
    "l3"
   ]
  },
  {
   "cell_type": "code",
   "execution_count": 43,
   "id": "aacdccaf",
   "metadata": {},
   "outputs": [],
   "source": [
    "l4 = \"THEWORLDSAVIOUR\""
   ]
  },
  {
   "cell_type": "code",
   "execution_count": 46,
   "id": "b714f79b",
   "metadata": {},
   "outputs": [
    {
     "ename": "SyntaxError",
     "evalue": "cannot assign to function call (1759209817.py, line 1)",
     "output_type": "error",
     "traceback": [
      "\u001b[1;36m  Input \u001b[1;32mIn [46]\u001b[1;36m\u001b[0m\n\u001b[1;33m    l4(7) = \"Z\"\u001b[0m\n\u001b[1;37m    ^\u001b[0m\n\u001b[1;31mSyntaxError\u001b[0m\u001b[1;31m:\u001b[0m cannot assign to function call\n"
     ]
    }
   ],
   "source": [
    "l4(7) = \"Z\""
   ]
  },
  {
   "cell_type": "code",
   "execution_count": 45,
   "id": "295045a6",
   "metadata": {},
   "outputs": [
    {
     "data": {
      "text/plain": [
       "'E'"
      ]
     },
     "execution_count": 45,
     "metadata": {},
     "output_type": "execute_result"
    }
   ],
   "source": [
    "l4[2]"
   ]
  },
  {
   "cell_type": "code",
   "execution_count": 52,
   "id": "9d7091ba",
   "metadata": {},
   "outputs": [
    {
     "data": {
      "text/plain": [
       "[20, 84, 865, 165, 68, 468, 18, 'RAHUL', 45, 6, 8]"
      ]
     },
     "execution_count": 52,
     "metadata": {},
     "output_type": "execute_result"
    }
   ],
   "source": [
    "l3[0] = 20\n",
    "l3"
   ]
  },
  {
   "cell_type": "code",
   "execution_count": 53,
   "id": "0bf41054",
   "metadata": {},
   "outputs": [
    {
     "data": {
      "text/plain": [
       "[20, 84, 865, 165, 68, 468, 18, 'RAHUL', 45, 6, 8, [45, 43, 23]]"
      ]
     },
     "execution_count": 53,
     "metadata": {},
     "output_type": "execute_result"
    }
   ],
   "source": [
    "l3.append([45,43,23])\n",
    "l3"
   ]
  },
  {
   "cell_type": "code",
   "execution_count": 55,
   "id": "d9fdb358",
   "metadata": {},
   "outputs": [
    {
     "data": {
      "text/plain": [
       "[45, 43, 23]"
      ]
     },
     "execution_count": 55,
     "metadata": {},
     "output_type": "execute_result"
    }
   ],
   "source": [
    "l3.pop()"
   ]
  },
  {
   "cell_type": "code",
   "execution_count": 61,
   "id": "8d12fb68",
   "metadata": {},
   "outputs": [
    {
     "data": {
      "text/plain": [
       "[20,\n",
       " 84,\n",
       " 'THEWORLDSAVIOUR',\n",
       " 865,\n",
       " 165,\n",
       " 68,\n",
       " 468,\n",
       " 18,\n",
       " 'RAHUL',\n",
       " 45,\n",
       " 6,\n",
       " 8,\n",
       " 'THEWORLDSAVIOUR',\n",
       " 90,\n",
       " 79]"
      ]
     },
     "execution_count": 61,
     "metadata": {},
     "output_type": "execute_result"
    }
   ],
   "source": [
    "l3.insert(2,\"THEWORLDSAVIOUR\")\n",
    "l3"
   ]
  },
  {
   "cell_type": "code",
   "execution_count": 59,
   "id": "2190400b",
   "metadata": {},
   "outputs": [],
   "source": [
    "l3[12] = 90"
   ]
  },
  {
   "cell_type": "code",
   "execution_count": 60,
   "id": "90cbc0e2",
   "metadata": {},
   "outputs": [
    {
     "data": {
      "text/plain": [
       "[20, 84, 865, 165, 68, 468, 18, 'RAHUL', 45, 6, 8, 'THEWORLDSAVIOUR', 90, 79]"
      ]
     },
     "execution_count": 60,
     "metadata": {},
     "output_type": "execute_result"
    }
   ],
   "source": [
    "l3[13] = 79\n",
    "l3"
   ]
  },
  {
   "cell_type": "code",
   "execution_count": 62,
   "id": "38915338",
   "metadata": {},
   "outputs": [
    {
     "data": {
      "text/plain": [
       "[20, 84, 'THEWORLDSAVIOUR', 865, 165, 68, 468, 18, 'RAHUL', 45, 6, 8, 90, 79]"
      ]
     },
     "execution_count": 62,
     "metadata": {},
     "output_type": "execute_result"
    }
   ],
   "source": [
    "l3.pop(12)\n",
    "l3"
   ]
  },
  {
   "cell_type": "code",
   "execution_count": 63,
   "id": "07edbb60",
   "metadata": {},
   "outputs": [],
   "source": [
    "l3.remove(6)"
   ]
  },
  {
   "cell_type": "code",
   "execution_count": 64,
   "id": "9aeb8cf2",
   "metadata": {},
   "outputs": [
    {
     "data": {
      "text/plain": [
       "[20, 84, 'THEWORLDSAVIOUR', 865, 165, 68, 468, 18, 'CHAMP', 45, 8, 90, 79]"
      ]
     },
     "execution_count": 64,
     "metadata": {},
     "output_type": "execute_result"
    }
   ],
   "source": [
    "l3[8] = 'CHAMP'\n",
    "l3"
   ]
  },
  {
   "cell_type": "code",
   "execution_count": 69,
   "id": "7f2a17c4",
   "metadata": {},
   "outputs": [
    {
     "name": "stdout",
     "output_type": "stream",
     "text": [
      "(45, 34, 6, 234, 65.43, 56.435, 'ksljd', True, False)    <class 'tuple'>\n"
     ]
    }
   ],
   "source": [
    "t1 = (45,34,6,234,65.43,56.435,\"ksljd\",True, False)\n",
    "print(t1,\"  \",type(t1))"
   ]
  },
  {
   "cell_type": "code",
   "execution_count": 70,
   "id": "cb24eba5",
   "metadata": {},
   "outputs": [
    {
     "name": "stdout",
     "output_type": "stream",
     "text": [
      "(45, 34, 6, 234, 65.43, 56.435, 'ksljd', True, False) <class 'tuple'>\n"
     ]
    }
   ],
   "source": [
    "print(t1,type(t1))"
   ]
  },
  {
   "cell_type": "code",
   "execution_count": 79,
   "id": "653e8d19",
   "metadata": {},
   "outputs": [
    {
     "data": {
      "text/plain": [
       "(45, 34, 6, 234, 65.43, 56.435, 'ksljd', True, False)"
      ]
     },
     "execution_count": 79,
     "metadata": {},
     "output_type": "execute_result"
    }
   ],
   "source": [
    "t1"
   ]
  },
  {
   "cell_type": "code",
   "execution_count": 81,
   "id": "48517f32",
   "metadata": {},
   "outputs": [
    {
     "data": {
      "text/plain": [
       "45"
      ]
     },
     "execution_count": 81,
     "metadata": {},
     "output_type": "execute_result"
    }
   ],
   "source": [
    "t1[0]"
   ]
  },
  {
   "cell_type": "code",
   "execution_count": 82,
   "id": "aa394b21",
   "metadata": {},
   "outputs": [
    {
     "data": {
      "text/plain": [
       "False"
      ]
     },
     "execution_count": 82,
     "metadata": {},
     "output_type": "execute_result"
    }
   ],
   "source": [
    "t1[-1]"
   ]
  },
  {
   "cell_type": "code",
   "execution_count": 84,
   "id": "d2663a4e",
   "metadata": {},
   "outputs": [
    {
     "data": {
      "text/plain": [
       "(45, 234, 'ksljd')"
      ]
     },
     "execution_count": 84,
     "metadata": {},
     "output_type": "execute_result"
    }
   ],
   "source": [
    "t1[::3]"
   ]
  },
  {
   "cell_type": "code",
   "execution_count": 88,
   "id": "e79194d4",
   "metadata": {},
   "outputs": [
    {
     "data": {
      "text/plain": [
       "()"
      ]
     },
     "execution_count": 88,
     "metadata": {},
     "output_type": "execute_result"
    }
   ],
   "source": [
    "t1[0:12:-2]"
   ]
  },
  {
   "cell_type": "code",
   "execution_count": 91,
   "id": "64a1c4f9",
   "metadata": {},
   "outputs": [
    {
     "data": {
      "text/plain": [
       "234"
      ]
     },
     "execution_count": 91,
     "metadata": {},
     "output_type": "execute_result"
    }
   ],
   "source": [
    "t1[3]"
   ]
  },
  {
   "cell_type": "code",
   "execution_count": 92,
   "id": "740987ee",
   "metadata": {},
   "outputs": [],
   "source": [
    "t2=(34,74,12,12,23.12)"
   ]
  },
  {
   "cell_type": "code",
   "execution_count": 93,
   "id": "a9b189db",
   "metadata": {},
   "outputs": [
    {
     "data": {
      "text/plain": [
       "(45, 34, 6, 234, 65.43, 56.435, 'ksljd', True, False, 34, 74, 12, 12, 23.12)"
      ]
     },
     "execution_count": 93,
     "metadata": {},
     "output_type": "execute_result"
    }
   ],
   "source": [
    "t1+t2"
   ]
  },
  {
   "cell_type": "code",
   "execution_count": 96,
   "id": "d1fa9548",
   "metadata": {},
   "outputs": [
    {
     "data": {
      "text/plain": [
       "2"
      ]
     },
     "execution_count": 96,
     "metadata": {},
     "output_type": "execute_result"
    }
   ],
   "source": [
    "t2.count(12)"
   ]
  },
  {
   "cell_type": "code",
   "execution_count": 98,
   "id": "2bd92d64",
   "metadata": {},
   "outputs": [
    {
     "data": {
      "text/plain": [
       "7"
      ]
     },
     "execution_count": 98,
     "metadata": {},
     "output_type": "execute_result"
    }
   ],
   "source": [
    "t1.index(True)"
   ]
  },
  {
   "cell_type": "code",
   "execution_count": 99,
   "id": "8ec7c08a",
   "metadata": {},
   "outputs": [
    {
     "ename": "TypeError",
     "evalue": "'tuple' object does not support item assignment",
     "output_type": "error",
     "traceback": [
      "\u001b[1;31m---------------------------------------------------------------------------\u001b[0m",
      "\u001b[1;31mTypeError\u001b[0m                                 Traceback (most recent call last)",
      "Input \u001b[1;32mIn [99]\u001b[0m, in \u001b[0;36m<cell line: 1>\u001b[1;34m()\u001b[0m\n\u001b[1;32m----> 1\u001b[0m t1[\u001b[38;5;241m2\u001b[39m] \u001b[38;5;241m=\u001b[39m \u001b[38;5;124m\"\u001b[39m\u001b[38;5;124mSALO\u001b[39m\u001b[38;5;124m\"\u001b[39m\n",
      "\u001b[1;31mTypeError\u001b[0m: 'tuple' object does not support item assignment"
     ]
    }
   ],
   "source": [
    "t1[2] = \"SALO\""
   ]
  },
  {
   "cell_type": "code",
   "execution_count": 100,
   "id": "29db3d00",
   "metadata": {},
   "outputs": [
    {
     "data": {
      "text/plain": [
       "[34, 74, 12, 12, 23.12]"
      ]
     },
     "execution_count": 100,
     "metadata": {},
     "output_type": "execute_result"
    }
   ],
   "source": [
    "list(t2)\n"
   ]
  },
  {
   "cell_type": "code",
   "execution_count": 101,
   "id": "f01edbfa",
   "metadata": {},
   "outputs": [
    {
     "data": {
      "text/plain": [
       "(34, 74, 12, 12, 23.12)"
      ]
     },
     "execution_count": 101,
     "metadata": {},
     "output_type": "execute_result"
    }
   ],
   "source": [
    "tuple(t2)"
   ]
  },
  {
   "cell_type": "code",
   "execution_count": 106,
   "id": "689b36b6",
   "metadata": {},
   "outputs": [],
   "source": [
    "t2=list(t2)"
   ]
  },
  {
   "cell_type": "code",
   "execution_count": 107,
   "id": "9b9cd4de",
   "metadata": {},
   "outputs": [],
   "source": [
    "t2[3] = \"HALO\""
   ]
  },
  {
   "cell_type": "code",
   "execution_count": 108,
   "id": "e8e1781c",
   "metadata": {},
   "outputs": [
    {
     "data": {
      "text/plain": [
       "[34, 74, 12, 'HALO', 23.12]"
      ]
     },
     "execution_count": 108,
     "metadata": {},
     "output_type": "execute_result"
    }
   ],
   "source": [
    "t2"
   ]
  },
  {
   "cell_type": "code",
   "execution_count": 109,
   "id": "2cb6031a",
   "metadata": {},
   "outputs": [
    {
     "data": {
      "text/plain": [
       "(34, 74, 12, 'HALO', 23.12)"
      ]
     },
     "execution_count": 109,
     "metadata": {},
     "output_type": "execute_result"
    }
   ],
   "source": [
    "t2=tuple(t2)\n",
    "t2"
   ]
  },
  {
   "cell_type": "code",
   "execution_count": 111,
   "id": "30c091a3",
   "metadata": {},
   "outputs": [
    {
     "data": {
      "text/plain": [
       "dict"
      ]
     },
     "execution_count": 111,
     "metadata": {},
     "output_type": "execute_result"
    }
   ],
   "source": [
    "#DICTIONARY\n",
    "d = {}\n",
    "type(d\n",
    ")"
   ]
  },
  {
   "cell_type": "code",
   "execution_count": 112,
   "id": "00bc5f7c",
   "metadata": {},
   "outputs": [
    {
     "data": {
      "text/plain": [
       "set"
      ]
     },
     "execution_count": 112,
     "metadata": {},
     "output_type": "execute_result"
    }
   ],
   "source": [
    "d1 ={1,2,3}\n",
    "type(d1)"
   ]
  },
  {
   "cell_type": "code",
   "execution_count": 116,
   "id": "a15d88d7",
   "metadata": {},
   "outputs": [
    {
     "name": "stdout",
     "output_type": "stream",
     "text": [
      "{'my name is': 'CHAMP', 'I rank': 2, 'in sports': 'all over the world'} <class 'dict'>\n"
     ]
    }
   ],
   "source": [
    "d2 ={'my name is':\"CHAMP\", \"I rank\" :2,\"in sports\":'all over the world'}\n",
    "print(d2, type(d2))"
   ]
  },
  {
   "cell_type": "code",
   "execution_count": 119,
   "id": "0fb148e8",
   "metadata": {},
   "outputs": [
    {
     "data": {
      "text/plain": [
       "{'my name is': 'CHAMP', 'I rank': 1, 'in sports': 'all over the world'}"
      ]
     },
     "execution_count": 119,
     "metadata": {},
     "output_type": "execute_result"
    }
   ],
   "source": [
    "d2[\"I rank\"] = 1\n",
    "d2"
   ]
  },
  {
   "cell_type": "code",
   "execution_count": 136,
   "id": "33cd2892",
   "metadata": {},
   "outputs": [
    {
     "data": {
      "text/plain": [
       "{'NAME': 'RAHUL',\n",
       " 'specialization': ['AI', 'Sharemarket', 'Sports'],\n",
       " 'home': ('Chennai', 'Bangalore', 'Delhi'),\n",
       " 'work': {'INDIA', 'UAE'},\n",
       " 'Current': {'me': 'father', 'me1': 'husband'}}"
      ]
     },
     "execution_count": 136,
     "metadata": {},
     "output_type": "execute_result"
    }
   ],
   "source": [
    "d3 ={\"NAME\":'RAHUL', 'specialization':[\"AI\", \"Sharemarket\", 'Sports'], 'home':(\"Chennai\", \"Bangalore\", \"Delhi\"), \"work\":{\"UAE\", \"INDIA\"}, \"Current\" :{\"me\":'father', 'me1':'husband'}}\n",
    "d3"
   ]
  },
  {
   "cell_type": "code",
   "execution_count": 130,
   "id": "c3bd4a35",
   "metadata": {},
   "outputs": [
    {
     "data": {
      "text/plain": [
       "True"
      ]
     },
     "execution_count": 130,
     "metadata": {},
     "output_type": "execute_result"
    }
   ],
   "source": [
    "'Sports' in d3[\"specialization\"]"
   ]
  },
  {
   "cell_type": "code",
   "execution_count": 131,
   "id": "a349857b",
   "metadata": {},
   "outputs": [],
   "source": [
    "d4 ={\"S.No\":\"1\", \"Index\" :\"Page 2\", \"Topic\":\"movies\"}"
   ]
  },
  {
   "cell_type": "code",
   "execution_count": 132,
   "id": "b7c55461",
   "metadata": {},
   "outputs": [
    {
     "data": {
      "text/plain": [
       "{'S.No': '1', 'Index': 'Page 1', 'Topic': 'movies'}"
      ]
     },
     "execution_count": 132,
     "metadata": {},
     "output_type": "execute_result"
    }
   ],
   "source": [
    "d4[\"Index\"] = \"Page 1\"\n",
    "d4"
   ]
  },
  {
   "cell_type": "code",
   "execution_count": 135,
   "id": "8682db2e",
   "metadata": {},
   "outputs": [
    {
     "data": {
      "text/plain": [
       "{'S.No': '1', 'Index': 'Page 1', 'Topic': 'movies', 'index1': 2}"
      ]
     },
     "execution_count": 135,
     "metadata": {},
     "output_type": "execute_result"
    }
   ],
   "source": [
    "d4[\"index1\"] = 2\n",
    "d4"
   ]
  },
  {
   "cell_type": "code",
   "execution_count": 137,
   "id": "e93e2bd5",
   "metadata": {},
   "outputs": [
    {
     "data": {
      "text/plain": [
       "'husband'"
      ]
     },
     "execution_count": 137,
     "metadata": {},
     "output_type": "execute_result"
    }
   ],
   "source": [
    "d3[\"Current\"]['me1']"
   ]
  },
  {
   "cell_type": "code",
   "execution_count": 139,
   "id": "4bc2e740",
   "metadata": {},
   "outputs": [
    {
     "data": {
      "text/plain": [
       "4"
      ]
     },
     "execution_count": 139,
     "metadata": {},
     "output_type": "execute_result"
    }
   ],
   "source": [
    "d3 = {3:4}\n",
    "d3[3]"
   ]
  },
  {
   "cell_type": "code",
   "execution_count": 140,
   "id": "2ad56091",
   "metadata": {},
   "outputs": [
    {
     "data": {
      "text/plain": [
       "{'my name is': 'CHAMP', 'I rank': 1, 'in sports': 'all over the world'}"
      ]
     },
     "execution_count": 140,
     "metadata": {},
     "output_type": "execute_result"
    }
   ],
   "source": [
    "d2"
   ]
  },
  {
   "cell_type": "code",
   "execution_count": 141,
   "id": "e557f157",
   "metadata": {},
   "outputs": [
    {
     "ename": "TypeError",
     "evalue": "unsupported operand type(s) for +: 'dict' and 'dict'",
     "output_type": "error",
     "traceback": [
      "\u001b[1;31m---------------------------------------------------------------------------\u001b[0m",
      "\u001b[1;31mTypeError\u001b[0m                                 Traceback (most recent call last)",
      "Input \u001b[1;32mIn [141]\u001b[0m, in \u001b[0;36m<cell line: 1>\u001b[1;34m()\u001b[0m\n\u001b[1;32m----> 1\u001b[0m \u001b[43md2\u001b[49m\u001b[38;5;241;43m+\u001b[39;49m\u001b[43md3\u001b[49m\n",
      "\u001b[1;31mTypeError\u001b[0m: unsupported operand type(s) for +: 'dict' and 'dict'"
     ]
    }
   ],
   "source": [
    "d2+d3"
   ]
  },
  {
   "cell_type": "code",
   "execution_count": 142,
   "id": "33f198bc",
   "metadata": {},
   "outputs": [
    {
     "data": {
      "text/plain": [
       "dict_keys(['my name is', 'I rank', 'in sports'])"
      ]
     },
     "execution_count": 142,
     "metadata": {},
     "output_type": "execute_result"
    }
   ],
   "source": [
    "d2.keys()"
   ]
  },
  {
   "cell_type": "code",
   "execution_count": 143,
   "id": "59ec90dd",
   "metadata": {},
   "outputs": [
    {
     "data": {
      "text/plain": [
       "dict_values(['CHAMP', 1, 'all over the world'])"
      ]
     },
     "execution_count": 143,
     "metadata": {},
     "output_type": "execute_result"
    }
   ],
   "source": [
    "d2.values()"
   ]
  },
  {
   "cell_type": "code",
   "execution_count": 144,
   "id": "852dd009",
   "metadata": {},
   "outputs": [
    {
     "data": {
      "text/plain": [
       "dict_items([('my name is', 'CHAMP'), ('I rank', 1), ('in sports', 'all over the world')])"
      ]
     },
     "execution_count": 144,
     "metadata": {},
     "output_type": "execute_result"
    }
   ],
   "source": [
    "d2.items()"
   ]
  },
  {
   "cell_type": "code",
   "execution_count": 149,
   "id": "5d349e6e",
   "metadata": {},
   "outputs": [
    {
     "name": "stdout",
     "output_type": "stream",
     "text": [
      "<class 'set'> {1, 2, 3, 4, 5, 6, 7, 8, 9, 54}\n"
     ]
    }
   ],
   "source": [
    "s1 = {4, 5, 54, 8, 9, 7, 5, 6, 2, 3, 6,5,7, 6, 7, 8, 9, 2, 1, 3, 5, 5}\n",
    "print(type(s1),s1)"
   ]
  },
  {
   "cell_type": "code",
   "execution_count": 152,
   "id": "27667f82",
   "metadata": {},
   "outputs": [
    {
     "data": {
      "text/plain": [
       "{12, 56, 78, 'AM', 'I', 'champ', 'the'}"
      ]
     },
     "execution_count": 152,
     "metadata": {},
     "output_type": "execute_result"
    }
   ],
   "source": [
    "s2 = {\"I\", \"AM\", 'the', 'champ', 56, 78, 12}\n",
    "s2"
   ]
  },
  {
   "cell_type": "code",
   "execution_count": 153,
   "id": "c6e32442",
   "metadata": {},
   "outputs": [
    {
     "data": {
      "text/plain": [
       "['I', 'the', 'AM', 56, 12, 'champ', 78]"
      ]
     },
     "execution_count": 153,
     "metadata": {},
     "output_type": "execute_result"
    }
   ],
   "source": [
    "list(s2)"
   ]
  },
  {
   "cell_type": "code",
   "execution_count": 154,
   "id": "f66bb25a",
   "metadata": {},
   "outputs": [
    {
     "ename": "TypeError",
     "evalue": "'set' object is not subscriptable",
     "output_type": "error",
     "traceback": [
      "\u001b[1;31m---------------------------------------------------------------------------\u001b[0m",
      "\u001b[1;31mTypeError\u001b[0m                                 Traceback (most recent call last)",
      "Input \u001b[1;32mIn [154]\u001b[0m, in \u001b[0;36m<cell line: 1>\u001b[1;34m()\u001b[0m\n\u001b[1;32m----> 1\u001b[0m \u001b[43ms2\u001b[49m\u001b[43m[\u001b[49m\u001b[38;5;241;43m2\u001b[39;49m\u001b[43m]\u001b[49m\n",
      "\u001b[1;31mTypeError\u001b[0m: 'set' object is not subscriptable"
     ]
    }
   ],
   "source": [
    "s2[2]"
   ]
  },
  {
   "cell_type": "code",
   "execution_count": 155,
   "id": "2927339a",
   "metadata": {},
   "outputs": [
    {
     "data": {
      "text/plain": [
       "('I', 'the', 'AM', 56, 12, 'champ', 78)"
      ]
     },
     "execution_count": 155,
     "metadata": {},
     "output_type": "execute_result"
    }
   ],
   "source": [
    "tuple(s2)"
   ]
  },
  {
   "cell_type": "code",
   "execution_count": 156,
   "id": "49785fe2",
   "metadata": {},
   "outputs": [
    {
     "ename": "TypeError",
     "evalue": "unhashable type: 'list'",
     "output_type": "error",
     "traceback": [
      "\u001b[1;31m---------------------------------------------------------------------------\u001b[0m",
      "\u001b[1;31mTypeError\u001b[0m                                 Traceback (most recent call last)",
      "Input \u001b[1;32mIn [156]\u001b[0m, in \u001b[0;36m<cell line: 1>\u001b[1;34m()\u001b[0m\n\u001b[1;32m----> 1\u001b[0m \u001b[43ms1\u001b[49m\u001b[38;5;241;43m.\u001b[39;49m\u001b[43madd\u001b[49m\u001b[43m(\u001b[49m\u001b[43m[\u001b[49m\u001b[38;5;241;43m21\u001b[39;49m\u001b[43m,\u001b[49m\u001b[38;5;241;43m23\u001b[39;49m\u001b[43m,\u001b[49m\u001b[38;5;241;43m43\u001b[39;49m\u001b[43m,\u001b[49m\u001b[38;5;241;43m54\u001b[39;49m\u001b[43m]\u001b[49m\u001b[43m)\u001b[49m\n",
      "\u001b[1;31mTypeError\u001b[0m: unhashable type: 'list'"
     ]
    }
   ],
   "source": [
    "s1.add([21,23,43,54])"
   ]
  },
  {
   "cell_type": "code",
   "execution_count": 158,
   "id": "98737607",
   "metadata": {},
   "outputs": [
    {
     "data": {
      "text/plain": [
       "{1, 2, 3, 4, 5, 6, 7, 8, 9, 23, 54}"
      ]
     },
     "execution_count": 158,
     "metadata": {},
     "output_type": "execute_result"
    }
   ],
   "source": [
    "s1.add(23)\n",
    "s1"
   ]
  },
  {
   "cell_type": "code",
   "execution_count": 159,
   "id": "5ff316d4",
   "metadata": {},
   "outputs": [],
   "source": [
    "s3 = {(2,3,4,5), 56,34,213}"
   ]
  },
  {
   "cell_type": "code",
   "execution_count": 161,
   "id": "2d36349f",
   "metadata": {},
   "outputs": [
    {
     "ename": "KeyError",
     "evalue": "(2, 3, 4, 5)",
     "output_type": "error",
     "traceback": [
      "\u001b[1;31m---------------------------------------------------------------------------\u001b[0m",
      "\u001b[1;31mKeyError\u001b[0m                                  Traceback (most recent call last)",
      "Input \u001b[1;32mIn [161]\u001b[0m, in \u001b[0;36m<cell line: 1>\u001b[1;34m()\u001b[0m\n\u001b[1;32m----> 1\u001b[0m \u001b[43ms3\u001b[49m\u001b[38;5;241;43m.\u001b[39;49m\u001b[43mremove\u001b[49m\u001b[43m(\u001b[49m\u001b[43m(\u001b[49m\u001b[38;5;241;43m2\u001b[39;49m\u001b[43m,\u001b[49m\u001b[38;5;241;43m3\u001b[39;49m\u001b[43m,\u001b[49m\u001b[38;5;241;43m4\u001b[39;49m\u001b[43m,\u001b[49m\u001b[38;5;241;43m5\u001b[39;49m\u001b[43m)\u001b[49m\u001b[43m)\u001b[49m\n\u001b[0;32m      2\u001b[0m s3\n",
      "\u001b[1;31mKeyError\u001b[0m: (2, 3, 4, 5)"
     ]
    }
   ],
   "source": [
    "s3.remove((2,3,4,5))"
   ]
  },
  {
   "cell_type": "code",
   "execution_count": 162,
   "id": "3d118d06",
   "metadata": {},
   "outputs": [
    {
     "data": {
      "text/plain": [
       "{34, 56, 213}"
      ]
     },
     "execution_count": 162,
     "metadata": {},
     "output_type": "execute_result"
    }
   ],
   "source": [
    "s3"
   ]
  },
  {
   "cell_type": "code",
   "execution_count": 164,
   "id": "e1e3fba5",
   "metadata": {},
   "outputs": [
    {
     "data": {
      "text/plain": [
       "{20, 34, 56, 213}"
      ]
     },
     "execution_count": 164,
     "metadata": {},
     "output_type": "execute_result"
    }
   ],
   "source": [
    "s3.add(20)\n",
    "s3"
   ]
  },
  {
   "cell_type": "code",
   "execution_count": 165,
   "id": "a09b7357",
   "metadata": {},
   "outputs": [
    {
     "ename": "KeyError",
     "evalue": "456",
     "output_type": "error",
     "traceback": [
      "\u001b[1;31m---------------------------------------------------------------------------\u001b[0m",
      "\u001b[1;31mKeyError\u001b[0m                                  Traceback (most recent call last)",
      "Input \u001b[1;32mIn [165]\u001b[0m, in \u001b[0;36m<cell line: 1>\u001b[1;34m()\u001b[0m\n\u001b[1;32m----> 1\u001b[0m \u001b[43ms3\u001b[49m\u001b[38;5;241;43m.\u001b[39;49m\u001b[43mremove\u001b[49m\u001b[43m(\u001b[49m\u001b[38;5;241;43m456\u001b[39;49m\u001b[43m)\u001b[49m\n",
      "\u001b[1;31mKeyError\u001b[0m: 456"
     ]
    }
   ],
   "source": [
    "s3.remove(456)"
   ]
  },
  {
   "cell_type": "code",
   "execution_count": 166,
   "id": "9965bf41",
   "metadata": {},
   "outputs": [
    {
     "data": {
      "text/plain": [
       "{20, 34, 56, 213}"
      ]
     },
     "execution_count": 166,
     "metadata": {},
     "output_type": "execute_result"
    }
   ],
   "source": [
    "s3.discard(456)\n",
    "s3"
   ]
  },
  {
   "cell_type": "code",
   "execution_count": 169,
   "id": "9442727d",
   "metadata": {},
   "outputs": [
    {
     "ename": "TypeError",
     "evalue": "unsupported operand type(s) for *: 'set' and 'set'",
     "output_type": "error",
     "traceback": [
      "\u001b[1;31m---------------------------------------------------------------------------\u001b[0m",
      "\u001b[1;31mTypeError\u001b[0m                                 Traceback (most recent call last)",
      "Input \u001b[1;32mIn [169]\u001b[0m, in \u001b[0;36m<cell line: 1>\u001b[1;34m()\u001b[0m\n\u001b[1;32m----> 1\u001b[0m \u001b[43ms3\u001b[49m\u001b[38;5;241;43m*\u001b[39;49m\u001b[43ms3\u001b[49m\n",
      "\u001b[1;31mTypeError\u001b[0m: unsupported operand type(s) for *: 'set' and 'set'"
     ]
    }
   ],
   "source": [
    "s3*s3"
   ]
  },
  {
   "cell_type": "code",
   "execution_count": null,
   "id": "8497ab66",
   "metadata": {},
   "outputs": [],
   "source": []
  }
 ],
 "metadata": {
  "kernelspec": {
   "display_name": "Python 3 (ipykernel)",
   "language": "python",
   "name": "python3"
  },
  "language_info": {
   "codemirror_mode": {
    "name": "ipython",
    "version": 3
   },
   "file_extension": ".py",
   "mimetype": "text/x-python",
   "name": "python",
   "nbconvert_exporter": "python",
   "pygments_lexer": "ipython3",
   "version": "3.9.12"
  }
 },
 "nbformat": 4,
 "nbformat_minor": 5
}
