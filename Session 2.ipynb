{
 "cells": [
  {
   "cell_type": "code",
   "execution_count": 1,
   "id": "d994a458",
   "metadata": {},
   "outputs": [],
   "source": [
    "a = \"ineuron\""
   ]
  },
  {
   "cell_type": "code",
   "execution_count": 2,
   "id": "44434ea2",
   "metadata": {},
   "outputs": [
    {
     "data": {
      "text/plain": [
       "'o'"
      ]
     },
     "execution_count": 2,
     "metadata": {},
     "output_type": "execute_result"
    }
   ],
   "source": [
    "a[5]"
   ]
  },
  {
   "cell_type": "code",
   "execution_count": 3,
   "id": "3a454400",
   "metadata": {},
   "outputs": [
    {
     "data": {
      "text/plain": [
       "'n'"
      ]
     },
     "execution_count": 3,
     "metadata": {},
     "output_type": "execute_result"
    }
   ],
   "source": [
    "a[1]"
   ]
  },
  {
   "cell_type": "code",
   "execution_count": 4,
   "id": "5a2c8d84",
   "metadata": {},
   "outputs": [
    {
     "data": {
      "text/plain": [
       "'r'"
      ]
     },
     "execution_count": 4,
     "metadata": {},
     "output_type": "execute_result"
    }
   ],
   "source": [
    "a[-3]"
   ]
  },
  {
   "cell_type": "code",
   "execution_count": 5,
   "id": "33a0c8ff",
   "metadata": {},
   "outputs": [],
   "source": [
    "b = 'INEURON'"
   ]
  },
  {
   "cell_type": "code",
   "execution_count": 6,
   "id": "0436751b",
   "metadata": {},
   "outputs": [
    {
     "data": {
      "text/plain": [
       "'N'"
      ]
     },
     "execution_count": 6,
     "metadata": {},
     "output_type": "execute_result"
    }
   ],
   "source": [
    "b[1]"
   ]
  },
  {
   "cell_type": "code",
   "execution_count": 7,
   "id": "5d07f6db",
   "metadata": {},
   "outputs": [
    {
     "data": {
      "text/plain": [
       "'R'"
      ]
     },
     "execution_count": 7,
     "metadata": {},
     "output_type": "execute_result"
    }
   ],
   "source": [
    "b[-3]"
   ]
  },
  {
   "cell_type": "code",
   "execution_count": 8,
   "id": "cadec27d",
   "metadata": {},
   "outputs": [],
   "source": [
    "c='I AM CHAMP''R'"
   ]
  },
  {
   "cell_type": "code",
   "execution_count": 9,
   "id": "a54ef43f",
   "metadata": {},
   "outputs": [
    {
     "data": {
      "text/plain": [
       "'I AM CHAMPR'"
      ]
     },
     "execution_count": 9,
     "metadata": {},
     "output_type": "execute_result"
    }
   ],
   "source": [
    "c"
   ]
  },
  {
   "cell_type": "code",
   "execution_count": 10,
   "id": "72cb3af2",
   "metadata": {},
   "outputs": [
    {
     "data": {
      "text/plain": [
       "'R'"
      ]
     },
     "execution_count": 10,
     "metadata": {},
     "output_type": "execute_result"
    }
   ],
   "source": [
    "c[10]"
   ]
  },
  {
   "cell_type": "code",
   "execution_count": 11,
   "id": "8b069739",
   "metadata": {},
   "outputs": [
    {
     "data": {
      "text/plain": [
       "'I'"
      ]
     },
     "execution_count": 11,
     "metadata": {},
     "output_type": "execute_result"
    }
   ],
   "source": [
    "c[-11]"
   ]
  },
  {
   "cell_type": "code",
   "execution_count": 12,
   "id": "019f11c9",
   "metadata": {},
   "outputs": [
    {
     "data": {
      "text/plain": [
       "' AM CHAMP'"
      ]
     },
     "execution_count": 12,
     "metadata": {},
     "output_type": "execute_result"
    }
   ],
   "source": [
    "c[1:10]"
   ]
  },
  {
   "cell_type": "code",
   "execution_count": 13,
   "id": "1315488d",
   "metadata": {},
   "outputs": [
    {
     "data": {
      "text/plain": [
       "' MCAP'"
      ]
     },
     "execution_count": 13,
     "metadata": {},
     "output_type": "execute_result"
    }
   ],
   "source": [
    "c[1:10:2]"
   ]
  },
  {
   "cell_type": "code",
   "execution_count": 14,
   "id": "774f8414",
   "metadata": {},
   "outputs": [],
   "source": [
    "d=\"I am the\"\"WORLD\"\"SAVIOUR\""
   ]
  },
  {
   "cell_type": "code",
   "execution_count": 15,
   "id": "81c3883d",
   "metadata": {},
   "outputs": [
    {
     "data": {
      "text/plain": [
       "'I am theWORLDSAVIOUR'"
      ]
     },
     "execution_count": 15,
     "metadata": {},
     "output_type": "execute_result"
    }
   ],
   "source": [
    "d"
   ]
  },
  {
   "cell_type": "code",
   "execution_count": 16,
   "id": "b305e6c5",
   "metadata": {},
   "outputs": [
    {
     "data": {
      "text/plain": [
       "'I am theWORLDSAVIOUR'"
      ]
     },
     "execution_count": 16,
     "metadata": {},
     "output_type": "execute_result"
    }
   ],
   "source": [
    "d[0:20:1]"
   ]
  },
  {
   "cell_type": "code",
   "execution_count": 17,
   "id": "8bf5e2f7",
   "metadata": {},
   "outputs": [
    {
     "data": {
      "text/plain": [
       "''"
      ]
     },
     "execution_count": 17,
     "metadata": {},
     "output_type": "execute_result"
    }
   ],
   "source": [
    "d[0:10:-3]"
   ]
  },
  {
   "cell_type": "code",
   "execution_count": 18,
   "id": "8f549c31",
   "metadata": {},
   "outputs": [
    {
     "data": {
      "text/plain": [
       "'OVSLOe'"
      ]
     },
     "execution_count": 18,
     "metadata": {},
     "output_type": "execute_result"
    }
   ],
   "source": [
    "d[-3:-15:-2]"
   ]
  },
  {
   "cell_type": "code",
   "execution_count": 19,
   "id": "b978b173",
   "metadata": {},
   "outputs": [
    {
     "data": {
      "text/plain": [
       "'RLDSAVIO'"
      ]
     },
     "execution_count": 19,
     "metadata": {},
     "output_type": "execute_result"
    }
   ],
   "source": [
    "d[10:-2]"
   ]
  },
  {
   "cell_type": "code",
   "execution_count": 20,
   "id": "6bbca7ce",
   "metadata": {},
   "outputs": [
    {
     "data": {
      "text/plain": [
       "'I am theWORLDSAVI'"
      ]
     },
     "execution_count": 20,
     "metadata": {},
     "output_type": "execute_result"
    }
   ],
   "source": [
    "d[:-3]"
   ]
  },
  {
   "cell_type": "code",
   "execution_count": 21,
   "id": "c55ca2a5",
   "metadata": {},
   "outputs": [
    {
     "data": {
      "text/plain": [
       "'OUR'"
      ]
     },
     "execution_count": 21,
     "metadata": {},
     "output_type": "execute_result"
    }
   ],
   "source": [
    "d[-3:\n",
    "]"
   ]
  },
  {
   "cell_type": "code",
   "execution_count": 22,
   "id": "aa000f2e",
   "metadata": {},
   "outputs": [
    {
     "data": {
      "text/plain": [
       "'ROVSLOetm '"
      ]
     },
     "execution_count": 22,
     "metadata": {},
     "output_type": "execute_result"
    }
   ],
   "source": [
    "d[::-2]"
   ]
  },
  {
   "cell_type": "code",
   "execution_count": 23,
   "id": "9c6a5b23",
   "metadata": {},
   "outputs": [
    {
     "data": {
      "text/plain": [
       "'ROVSLO'"
      ]
     },
     "execution_count": 23,
     "metadata": {},
     "output_type": "execute_result"
    }
   ],
   "source": [
    "d[:-12:-2]"
   ]
  },
  {
   "cell_type": "code",
   "execution_count": 24,
   "id": "33f4c95f",
   "metadata": {},
   "outputs": [],
   "source": [
    "e=d+str(2)"
   ]
  },
  {
   "cell_type": "code",
   "execution_count": 25,
   "id": "c72a69b8",
   "metadata": {},
   "outputs": [
    {
     "data": {
      "text/plain": [
       "'I am theWORLDSAVIOUR2'"
      ]
     },
     "execution_count": 25,
     "metadata": {},
     "output_type": "execute_result"
    }
   ],
   "source": [
    "e"
   ]
  },
  {
   "cell_type": "code",
   "execution_count": 26,
   "id": "cf784bef",
   "metadata": {},
   "outputs": [
    {
     "data": {
      "text/plain": [
       "21"
      ]
     },
     "execution_count": 26,
     "metadata": {},
     "output_type": "execute_result"
    }
   ],
   "source": [
    "len(e)"
   ]
  },
  {
   "cell_type": "code",
   "execution_count": 27,
   "id": "2ca1e4e3",
   "metadata": {},
   "outputs": [
    {
     "data": {
      "text/plain": [
       "2"
      ]
     },
     "execution_count": 27,
     "metadata": {},
     "output_type": "execute_result"
    }
   ],
   "source": [
    "e.count('R')"
   ]
  },
  {
   "cell_type": "code",
   "execution_count": 28,
   "id": "36f25586",
   "metadata": {},
   "outputs": [
    {
     "ename": "TypeError",
     "evalue": "str.capitalize() takes no arguments (1 given)",
     "output_type": "error",
     "traceback": [
      "\u001b[1;31m---------------------------------------------------------------------------\u001b[0m",
      "\u001b[1;31mTypeError\u001b[0m                                 Traceback (most recent call last)",
      "Input \u001b[1;32mIn [28]\u001b[0m, in \u001b[0;36m<cell line: 1>\u001b[1;34m()\u001b[0m\n\u001b[1;32m----> 1\u001b[0m \u001b[43me\u001b[49m\u001b[38;5;241;43m.\u001b[39;49m\u001b[43mcapitalize\u001b[49m\u001b[43m(\u001b[49m\u001b[38;5;124;43m'\u001b[39;49m\u001b[38;5;124;43mthe\u001b[39;49m\u001b[38;5;124;43m'\u001b[39;49m\u001b[43m)\u001b[49m\n",
      "\u001b[1;31mTypeError\u001b[0m: str.capitalize() takes no arguments (1 given)"
     ]
    }
   ],
   "source": [
    "e.capitalize('the')"
   ]
  },
  {
   "cell_type": "code",
   "execution_count": 30,
   "id": "65df9a8e",
   "metadata": {},
   "outputs": [
    {
     "data": {
      "text/plain": [
       "['I am theWO', 'LDSAVIOU', '2']"
      ]
     },
     "execution_count": 30,
     "metadata": {},
     "output_type": "execute_result"
    }
   ],
   "source": [
    "e.split(\"R\")"
   ]
  },
  {
   "cell_type": "code",
   "execution_count": 31,
   "id": "34e137cc",
   "metadata": {},
   "outputs": [],
   "source": [
    "f=\"Find out more about the International Cricket Council; the Organisation and our Members, our Partners, our Match officials, the sport of cricket and much more in the brand new dedicated About ICC websit\""
   ]
  },
  {
   "cell_type": "code",
   "execution_count": 32,
   "id": "cee5c280",
   "metadata": {},
   "outputs": [
    {
     "data": {
      "text/plain": [
       "'Find out more about the International Cricket Council; the Organisation and our Members, our Partners, our Match officials, the sport of cricket and much more in the brand new dedicated About ICC websit'"
      ]
     },
     "execution_count": 32,
     "metadata": {},
     "output_type": "execute_result"
    }
   ],
   "source": [
    "f"
   ]
  },
  {
   "cell_type": "code",
   "execution_count": 33,
   "id": "203469dd",
   "metadata": {},
   "outputs": [
    {
     "data": {
      "text/plain": [
       "['Find',\n",
       " 'out',\n",
       " 'more',\n",
       " 'about',\n",
       " 'the',\n",
       " 'International',\n",
       " 'Cricket',\n",
       " 'Council;',\n",
       " 'the',\n",
       " 'Organisation',\n",
       " 'and',\n",
       " 'our',\n",
       " 'Members,',\n",
       " 'our',\n",
       " 'Partners,',\n",
       " 'our',\n",
       " 'Match',\n",
       " 'officials,',\n",
       " 'the',\n",
       " 'sport',\n",
       " 'of',\n",
       " 'cricket',\n",
       " 'and',\n",
       " 'much',\n",
       " 'more',\n",
       " 'in',\n",
       " 'the',\n",
       " 'brand',\n",
       " 'new',\n",
       " 'dedicated',\n",
       " 'About',\n",
       " 'ICC',\n",
       " 'websit']"
      ]
     },
     "execution_count": 33,
     "metadata": {},
     "output_type": "execute_result"
    }
   ],
   "source": [
    "f.split()"
   ]
  },
  {
   "cell_type": "code",
   "execution_count": 34,
   "id": "ad65f299",
   "metadata": {},
   "outputs": [],
   "source": [
    "g=\"\"\"Cricket is a bat-and-ball game played between two teams of eleven players each on a field at the centre of which is a 22-yard (20-metre) pitch with a wicket at each end, each comprising two bails balanced on three stumps. The game proceeds when a player on the fielding team, called the bowler, \"bowls\" (propels) the ball from one end of the pitch towards the wicket at the other end, with an \"over\" being completed once they have legally done so six times. The batting side has one player at each end of the pitch, with the player at the opposite end of the pitch from the bowler aiming to strike the ball with a bat. The batting side scores runs either when the ball reaches the boundary of the field, or when the two batters swap ends of the pitch, which results in one run. The fielding side's aim is to prevent run-scoring and dismiss each batter (so they are \"out\", and are said to have \"lost their wicket\"). Means of dismissal include being bowled, when the bowled ball hits the stumps and dislodges the bails, and by the fielding side either catching a hit ball before it touches the ground, or hitting a wicket with the ball before a batter can cross the crease line in front of the wicket to complete a run. When ten batters have been dismissed, the innings ends and the teams swap roles. The game is adjudicated by two umpires, aided by a third umpire and match referee in international matches.\"\"\""
   ]
  },
  {
   "cell_type": "code",
   "execution_count": 35,
   "id": "54b0acf8",
   "metadata": {},
   "outputs": [
    {
     "data": {
      "text/plain": [
       "['Cricket',\n",
       " 'is',\n",
       " 'a',\n",
       " 'bat-and-ball',\n",
       " 'game',\n",
       " 'played',\n",
       " 'between',\n",
       " 'two',\n",
       " 'teams',\n",
       " 'of',\n",
       " 'eleven',\n",
       " 'players',\n",
       " 'each',\n",
       " 'on',\n",
       " 'a',\n",
       " 'field',\n",
       " 'at',\n",
       " 'the',\n",
       " 'centre',\n",
       " 'of',\n",
       " 'which',\n",
       " 'is',\n",
       " 'a',\n",
       " '22-yard',\n",
       " '(20-metre)',\n",
       " 'pitch',\n",
       " 'with',\n",
       " 'a',\n",
       " 'wicket',\n",
       " 'at',\n",
       " 'each',\n",
       " 'end,',\n",
       " 'each',\n",
       " 'comprising',\n",
       " 'two',\n",
       " 'bails',\n",
       " 'balanced',\n",
       " 'on',\n",
       " 'three',\n",
       " 'stumps.',\n",
       " 'The',\n",
       " 'game',\n",
       " 'proceeds',\n",
       " 'when',\n",
       " 'a',\n",
       " 'player',\n",
       " 'on',\n",
       " 'the',\n",
       " 'fielding',\n",
       " 'team,',\n",
       " 'called',\n",
       " 'the',\n",
       " 'bowler,',\n",
       " '\"bowls\"',\n",
       " '(propels)',\n",
       " 'the',\n",
       " 'ball',\n",
       " 'from',\n",
       " 'one',\n",
       " 'end',\n",
       " 'of',\n",
       " 'the',\n",
       " 'pitch',\n",
       " 'towards',\n",
       " 'the',\n",
       " 'wicket',\n",
       " 'at',\n",
       " 'the',\n",
       " 'other',\n",
       " 'end,',\n",
       " 'with',\n",
       " 'an',\n",
       " '\"over\"',\n",
       " 'being',\n",
       " 'completed',\n",
       " 'once',\n",
       " 'they',\n",
       " 'have',\n",
       " 'legally',\n",
       " 'done',\n",
       " 'so',\n",
       " 'six',\n",
       " 'times.',\n",
       " 'The',\n",
       " 'batting',\n",
       " 'side',\n",
       " 'has',\n",
       " 'one',\n",
       " 'player',\n",
       " 'at',\n",
       " 'each',\n",
       " 'end',\n",
       " 'of',\n",
       " 'the',\n",
       " 'pitch,',\n",
       " 'with',\n",
       " 'the',\n",
       " 'player',\n",
       " 'at',\n",
       " 'the',\n",
       " 'opposite',\n",
       " 'end',\n",
       " 'of',\n",
       " 'the',\n",
       " 'pitch',\n",
       " 'from',\n",
       " 'the',\n",
       " 'bowler',\n",
       " 'aiming',\n",
       " 'to',\n",
       " 'strike',\n",
       " 'the',\n",
       " 'ball',\n",
       " 'with',\n",
       " 'a',\n",
       " 'bat.',\n",
       " 'The',\n",
       " 'batting',\n",
       " 'side',\n",
       " 'scores',\n",
       " 'runs',\n",
       " 'either',\n",
       " 'when',\n",
       " 'the',\n",
       " 'ball',\n",
       " 'reaches',\n",
       " 'the',\n",
       " 'boundary',\n",
       " 'of',\n",
       " 'the',\n",
       " 'field,',\n",
       " 'or',\n",
       " 'when',\n",
       " 'the',\n",
       " 'two',\n",
       " 'batters',\n",
       " 'swap',\n",
       " 'ends',\n",
       " 'of',\n",
       " 'the',\n",
       " 'pitch,',\n",
       " 'which',\n",
       " 'results',\n",
       " 'in',\n",
       " 'one',\n",
       " 'run.',\n",
       " 'The',\n",
       " 'fielding',\n",
       " \"side's\",\n",
       " 'aim',\n",
       " 'is',\n",
       " 'to',\n",
       " 'prevent',\n",
       " 'run-scoring',\n",
       " 'and',\n",
       " 'dismiss',\n",
       " 'each',\n",
       " 'batter',\n",
       " '(so',\n",
       " 'they',\n",
       " 'are',\n",
       " '\"out\",',\n",
       " 'and',\n",
       " 'are',\n",
       " 'said',\n",
       " 'to',\n",
       " 'have',\n",
       " '\"lost',\n",
       " 'their',\n",
       " 'wicket\").',\n",
       " 'Means',\n",
       " 'of',\n",
       " 'dismissal',\n",
       " 'include',\n",
       " 'being',\n",
       " 'bowled,',\n",
       " 'when',\n",
       " 'the',\n",
       " 'bowled',\n",
       " 'ball',\n",
       " 'hits',\n",
       " 'the',\n",
       " 'stumps',\n",
       " 'and',\n",
       " 'dislodges',\n",
       " 'the',\n",
       " 'bails,',\n",
       " 'and',\n",
       " 'by',\n",
       " 'the',\n",
       " 'fielding',\n",
       " 'side',\n",
       " 'either',\n",
       " 'catching',\n",
       " 'a',\n",
       " 'hit',\n",
       " 'ball',\n",
       " 'before',\n",
       " 'it',\n",
       " 'touches',\n",
       " 'the',\n",
       " 'ground,',\n",
       " 'or',\n",
       " 'hitting',\n",
       " 'a',\n",
       " 'wicket',\n",
       " 'with',\n",
       " 'the',\n",
       " 'ball',\n",
       " 'before',\n",
       " 'a',\n",
       " 'batter',\n",
       " 'can',\n",
       " 'cross',\n",
       " 'the',\n",
       " 'crease',\n",
       " 'line',\n",
       " 'in',\n",
       " 'front',\n",
       " 'of',\n",
       " 'the',\n",
       " 'wicket',\n",
       " 'to',\n",
       " 'complete',\n",
       " 'a',\n",
       " 'run.',\n",
       " 'When',\n",
       " 'ten',\n",
       " 'batters',\n",
       " 'have',\n",
       " 'been',\n",
       " 'dismissed,',\n",
       " 'the',\n",
       " 'innings',\n",
       " 'ends',\n",
       " 'and',\n",
       " 'the',\n",
       " 'teams',\n",
       " 'swap',\n",
       " 'roles.',\n",
       " 'The',\n",
       " 'game',\n",
       " 'is',\n",
       " 'adjudicated',\n",
       " 'by',\n",
       " 'two',\n",
       " 'umpires,',\n",
       " 'aided',\n",
       " 'by',\n",
       " 'a',\n",
       " 'third',\n",
       " 'umpire',\n",
       " 'and',\n",
       " 'match',\n",
       " 'referee',\n",
       " 'in',\n",
       " 'international',\n",
       " 'matches.']"
      ]
     },
     "execution_count": 35,
     "metadata": {},
     "output_type": "execute_result"
    }
   ],
   "source": [
    "g.split()"
   ]
  },
  {
   "cell_type": "code",
   "execution_count": 36,
   "id": "a03ada2d",
   "metadata": {},
   "outputs": [
    {
     "data": {
      "text/plain": [
       "'CRICKET IS A BAT-AND-BALL GAME PLAYED BETWEEN TWO TEAMS OF ELEVEN PLAYERS EACH ON A FIELD AT THE CENTRE OF WHICH IS A 22-YARD (20-METRE) PITCH WITH A WICKET AT EACH END, EACH COMPRISING TWO BAILS BALANCED ON THREE STUMPS. THE GAME PROCEEDS WHEN A PLAYER ON THE FIELDING TEAM, CALLED THE BOWLER, \"BOWLS\" (PROPELS) THE BALL FROM ONE END OF THE PITCH TOWARDS THE WICKET AT THE OTHER END, WITH AN \"OVER\" BEING COMPLETED ONCE THEY HAVE LEGALLY DONE SO SIX TIMES. THE BATTING SIDE HAS ONE PLAYER AT EACH END OF THE PITCH, WITH THE PLAYER AT THE OPPOSITE END OF THE PITCH FROM THE BOWLER AIMING TO STRIKE THE BALL WITH A BAT. THE BATTING SIDE SCORES RUNS EITHER WHEN THE BALL REACHES THE BOUNDARY OF THE FIELD, OR WHEN THE TWO BATTERS SWAP ENDS OF THE PITCH, WHICH RESULTS IN ONE RUN. THE FIELDING SIDE\\'S AIM IS TO PREVENT RUN-SCORING AND DISMISS EACH BATTER (SO THEY ARE \"OUT\", AND ARE SAID TO HAVE \"LOST THEIR WICKET\"). MEANS OF DISMISSAL INCLUDE BEING BOWLED, WHEN THE BOWLED BALL HITS THE STUMPS AND DISLODGES THE BAILS, AND BY THE FIELDING SIDE EITHER CATCHING A HIT BALL BEFORE IT TOUCHES THE GROUND, OR HITTING A WICKET WITH THE BALL BEFORE A BATTER CAN CROSS THE CREASE LINE IN FRONT OF THE WICKET TO COMPLETE A RUN. WHEN TEN BATTERS HAVE BEEN DISMISSED, THE INNINGS ENDS AND THE TEAMS SWAP ROLES. THE GAME IS ADJUDICATED BY TWO UMPIRES, AIDED BY A THIRD UMPIRE AND MATCH REFEREE IN INTERNATIONAL MATCHES.'"
      ]
     },
     "execution_count": 36,
     "metadata": {},
     "output_type": "execute_result"
    }
   ],
   "source": [
    "g.upper()"
   ]
  },
  {
   "cell_type": "code",
   "execution_count": 37,
   "id": "ca8520e8",
   "metadata": {},
   "outputs": [
    {
     "data": {
      "text/plain": [
       "'cricket is a bat-and-ball game played between two teams of eleven players each on a field at the centre of which is a 22-yard (20-metre) pitch with a wicket at each end, each comprising two bails balanced on three stumps. the game proceeds when a player on the fielding team, called the bowler, \"bowls\" (propels) the ball from one end of the pitch towards the wicket at the other end, with an \"over\" being completed once they have legally done so six times. the batting side has one player at each end of the pitch, with the player at the opposite end of the pitch from the bowler aiming to strike the ball with a bat. the batting side scores runs either when the ball reaches the boundary of the field, or when the two batters swap ends of the pitch, which results in one run. the fielding side\\'s aim is to prevent run-scoring and dismiss each batter (so they are \"out\", and are said to have \"lost their wicket\"). means of dismissal include being bowled, when the bowled ball hits the stumps and dislodges the bails, and by the fielding side either catching a hit ball before it touches the ground, or hitting a wicket with the ball before a batter can cross the crease line in front of the wicket to complete a run. when ten batters have been dismissed, the innings ends and the teams swap roles. the game is adjudicated by two umpires, aided by a third umpire and match referee in international matches.'"
      ]
     },
     "execution_count": 37,
     "metadata": {},
     "output_type": "execute_result"
    }
   ],
   "source": [
    "g.lower()"
   ]
  },
  {
   "cell_type": "code",
   "execution_count": 38,
   "id": "b87b4837",
   "metadata": {},
   "outputs": [
    {
     "data": {
      "text/plain": [
       "'Cricket Is A Bat-And-Ball Game Played Between Two Teams Of Eleven Players Each On A Field At The Centre Of Which Is A 22-Yard (20-Metre) Pitch With A Wicket At Each End, Each Comprising Two Bails Balanced On Three Stumps. The Game Proceeds When A Player On The Fielding Team, Called The Bowler, \"Bowls\" (Propels) The Ball From One End Of The Pitch Towards The Wicket At The Other End, With An \"Over\" Being Completed Once They Have Legally Done So Six Times. The Batting Side Has One Player At Each End Of The Pitch, With The Player At The Opposite End Of The Pitch From The Bowler Aiming To Strike The Ball With A Bat. The Batting Side Scores Runs Either When The Ball Reaches The Boundary Of The Field, Or When The Two Batters Swap Ends Of The Pitch, Which Results In One Run. The Fielding Side\\'S Aim Is To Prevent Run-Scoring And Dismiss Each Batter (So They Are \"Out\", And Are Said To Have \"Lost Their Wicket\"). Means Of Dismissal Include Being Bowled, When The Bowled Ball Hits The Stumps And Dislodges The Bails, And By The Fielding Side Either Catching A Hit Ball Before It Touches The Ground, Or Hitting A Wicket With The Ball Before A Batter Can Cross The Crease Line In Front Of The Wicket To Complete A Run. When Ten Batters Have Been Dismissed, The Innings Ends And The Teams Swap Roles. The Game Is Adjudicated By Two Umpires, Aided By A Third Umpire And Match Referee In International Matches.'"
      ]
     },
     "execution_count": 38,
     "metadata": {},
     "output_type": "execute_result"
    }
   ],
   "source": [
    "g.title()"
   ]
  },
  {
   "cell_type": "code",
   "execution_count": 39,
   "id": "227b3478",
   "metadata": {},
   "outputs": [],
   "source": [
    "f=\"rahul kumar\""
   ]
  },
  {
   "cell_type": "code",
   "execution_count": 42,
   "id": "5c719e52",
   "metadata": {},
   "outputs": [
    {
     "data": {
      "text/plain": [
       "'Rahul Kumar'"
      ]
     },
     "execution_count": 42,
     "metadata": {},
     "output_type": "execute_result"
    }
   ],
   "source": [
    "f.title()"
   ]
  },
  {
   "cell_type": "code",
   "execution_count": 43,
   "id": "b10c31c4",
   "metadata": {},
   "outputs": [
    {
     "data": {
      "text/plain": [
       "'Rahul kumar'"
      ]
     },
     "execution_count": 43,
     "metadata": {},
     "output_type": "execute_result"
    }
   ],
   "source": [
    "f.capitalize()"
   ]
  },
  {
   "cell_type": "code",
   "execution_count": 44,
   "id": "9b59f214",
   "metadata": {},
   "outputs": [
    {
     "data": {
      "text/plain": [
       "'rAHUL KUMAR'"
      ]
     },
     "execution_count": 44,
     "metadata": {},
     "output_type": "execute_result"
    }
   ],
   "source": [
    "f.swapcase()"
   ]
  },
  {
   "cell_type": "code",
   "execution_count": 45,
   "id": "5b7f03e8",
   "metadata": {},
   "outputs": [
    {
     "data": {
      "text/plain": [
       "'ramuk luhaR'"
      ]
     },
     "execution_count": 45,
     "metadata": {},
     "output_type": "execute_result"
    }
   ],
   "source": [
    "f[::-1]"
   ]
  },
  {
   "cell_type": "code",
   "execution_count": 55,
   "id": "f05c3144",
   "metadata": {},
   "outputs": [
    {
     "data": {
      "text/plain": [
       "'ramuk luhaR'"
      ]
     },
     "execution_count": 55,
     "metadata": {},
     "output_type": "execute_result"
    }
   ],
   "source": [
    "\"\".join(reversed(f))"
   ]
  },
  {
   "cell_type": "code",
   "execution_count": 47,
   "id": "7234688b",
   "metadata": {},
   "outputs": [],
   "source": [
    "h=\"      RAHUL KUMAR        \""
   ]
  },
  {
   "cell_type": "code",
   "execution_count": 48,
   "id": "58c321b1",
   "metadata": {},
   "outputs": [
    {
     "data": {
      "text/plain": [
       "'RAHUL KUMAR'"
      ]
     },
     "execution_count": 48,
     "metadata": {},
     "output_type": "execute_result"
    }
   ],
   "source": [
    "h.strip()"
   ]
  },
  {
   "cell_type": "code",
   "execution_count": 59,
   "id": "29400f20",
   "metadata": {},
   "outputs": [
    {
     "data": {
      "text/plain": [
       "'RAHUL KUMAR        '"
      ]
     },
     "execution_count": 59,
     "metadata": {},
     "output_type": "execute_result"
    }
   ],
   "source": [
    "h.lstrip()"
   ]
  },
  {
   "cell_type": "code",
   "execution_count": 50,
   "id": "70c8e41b",
   "metadata": {},
   "outputs": [
    {
     "data": {
      "text/plain": [
       "'      RAHUL KUMAR'"
      ]
     },
     "execution_count": 50,
     "metadata": {},
     "output_type": "execute_result"
    }
   ],
   "source": [
    "h.rstrip()"
   ]
  },
  {
   "cell_type": "code",
   "execution_count": 63,
   "id": "6b4e9f42",
   "metadata": {},
   "outputs": [
    {
     "data": {
      "text/plain": [
       "'      RAHUL KUMAR        '"
      ]
     },
     "execution_count": 63,
     "metadata": {},
     "output_type": "execute_result"
    }
   ],
   "source": [
    "\"\".join(h)"
   ]
  },
  {
   "cell_type": "code",
   "execution_count": 57,
   "id": "83a27554",
   "metadata": {},
   "outputs": [
    {
     "data": {
      "text/plain": [
       "'###################RAHUL KUMAR####################'"
      ]
     },
     "execution_count": 57,
     "metadata": {},
     "output_type": "execute_result"
    }
   ],
   "source": [
    "h.strip().center(50,\"#\")"
   ]
  },
  {
   "cell_type": "code",
   "execution_count": 66,
   "id": "b54eb546",
   "metadata": {},
   "outputs": [
    {
     "data": {
      "text/plain": [
       "True"
      ]
     },
     "execution_count": 66,
     "metadata": {},
     "output_type": "execute_result"
    }
   ],
   "source": [
    "h.isupper()"
   ]
  },
  {
   "cell_type": "code",
   "execution_count": 67,
   "id": "e29c52ca",
   "metadata": {},
   "outputs": [],
   "source": [
    "i=\"rahul\""
   ]
  },
  {
   "cell_type": "code",
   "execution_count": 71,
   "id": "93e2da12",
   "metadata": {},
   "outputs": [
    {
     "data": {
      "text/plain": [
       "True"
      ]
     },
     "execution_count": 71,
     "metadata": {},
     "output_type": "execute_result"
    }
   ],
   "source": [
    "i.upper().isupper()"
   ]
  },
  {
   "cell_type": "code",
   "execution_count": 72,
   "id": "360fb67a",
   "metadata": {},
   "outputs": [
    {
     "data": {
      "text/plain": [
       "str"
      ]
     },
     "execution_count": 72,
     "metadata": {},
     "output_type": "execute_result"
    }
   ],
   "source": [
    "type(h)"
   ]
  },
  {
   "cell_type": "code",
   "execution_count": 74,
   "id": "1f85549c",
   "metadata": {},
   "outputs": [
    {
     "data": {
      "text/plain": [
       "False"
      ]
     },
     "execution_count": 74,
     "metadata": {},
     "output_type": "execute_result"
    }
   ],
   "source": [
    "i.isdigit()"
   ]
  },
  {
   "cell_type": "code",
   "execution_count": 75,
   "id": "5a8df36d",
   "metadata": {},
   "outputs": [
    {
     "data": {
      "text/plain": [
       "True"
      ]
     },
     "execution_count": 75,
     "metadata": {},
     "output_type": "execute_result"
    }
   ],
   "source": [
    "i.isalpha()"
   ]
  },
  {
   "cell_type": "code",
   "execution_count": 77,
   "id": "eb2d42b7",
   "metadata": {},
   "outputs": [
    {
     "data": {
      "text/plain": [
       "True"
      ]
     },
     "execution_count": 77,
     "metadata": {},
     "output_type": "execute_result"
    }
   ],
   "source": [
    "i.title().istitle()"
   ]
  },
  {
   "cell_type": "code",
   "execution_count": 78,
   "id": "d495174e",
   "metadata": {},
   "outputs": [
    {
     "data": {
      "text/plain": [
       "True"
      ]
     },
     "execution_count": 78,
     "metadata": {},
     "output_type": "execute_result"
    }
   ],
   "source": [
    "i.isalnum()"
   ]
  },
  {
   "cell_type": "code",
   "execution_count": 80,
   "id": "0aa616fd",
   "metadata": {},
   "outputs": [
    {
     "data": {
      "text/plain": [
       "True"
      ]
     },
     "execution_count": 80,
     "metadata": {},
     "output_type": "execute_result"
    }
   ],
   "source": [
    "i.startswith(\"r\")"
   ]
  },
  {
   "cell_type": "code",
   "execution_count": 82,
   "id": "7eb27f56",
   "metadata": {},
   "outputs": [
    {
     "data": {
      "text/plain": [
       "True"
      ]
     },
     "execution_count": 82,
     "metadata": {},
     "output_type": "execute_result"
    }
   ],
   "source": [
    "i.endswith('l')"
   ]
  },
  {
   "cell_type": "code",
   "execution_count": 83,
   "id": "032d9600",
   "metadata": {},
   "outputs": [
    {
     "data": {
      "text/plain": [
       "'aaaaRAHUL KUMARaaaaa'"
      ]
     },
     "execution_count": 83,
     "metadata": {},
     "output_type": "execute_result"
    }
   ],
   "source": [
    "h.strip().center(20,\"a\")"
   ]
  },
  {
   "cell_type": "code",
   "execution_count": 85,
   "id": "a3e6435c",
   "metadata": {},
   "outputs": [],
   "source": [
    "j=\"Rahul\\tTheworldsaviour\\tKumar\""
   ]
  },
  {
   "cell_type": "code",
   "execution_count": 86,
   "id": "39ead0d4",
   "metadata": {},
   "outputs": [
    {
     "data": {
      "text/plain": [
       "'Rahul   Theworldsaviour Kumar'"
      ]
     },
     "execution_count": 86,
     "metadata": {},
     "output_type": "execute_result"
    }
   ],
   "source": [
    "j.expandtabs()"
   ]
  },
  {
   "cell_type": "code",
   "execution_count": null,
   "id": "204d8ad7",
   "metadata": {},
   "outputs": [],
   "source": []
  }
 ],
 "metadata": {
  "kernelspec": {
   "display_name": "Python 3 (ipykernel)",
   "language": "python",
   "name": "python3"
  },
  "language_info": {
   "codemirror_mode": {
    "name": "ipython",
    "version": 3
   },
   "file_extension": ".py",
   "mimetype": "text/x-python",
   "name": "python",
   "nbconvert_exporter": "python",
   "pygments_lexer": "ipython3",
   "version": "3.9.12"
  }
 },
 "nbformat": 4,
 "nbformat_minor": 5
}
